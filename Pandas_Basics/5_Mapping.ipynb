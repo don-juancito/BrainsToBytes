{
 "cells": [
  {
   "cell_type": "markdown",
   "metadata": {},
   "source": [
    "In this article, we will learn about mapping and the *apply* and *applymap* functions.\n",
    "\n",
    "This technique will help you manipulate your data in very convenient ways, and is another important addition to your toolbox. \n",
    "\n",
    "As always, we will explore the topic with examples that will help you understand what's going on. \n",
    "\n",
    "Great, let's get started!\n",
    "\n",
    "## Mapping\n",
    "\n",
    "Mapping means applying a function that transforms the elements of a domain into the elements of another domain. In this case, the entries, rows, and columns in a series or dataframe. Pandas lets you apply functions at element, row, and column level to create new series and dataframes.\n",
    "\n",
    "Pandas is also compatible with many of the operations defined in NumPy. This lets you apply functions in a very convenient and performant fashion. Let's see some examples:"
   ]
  },
  {
   "cell_type": "code",
   "execution_count": 1,
   "metadata": {},
   "outputs": [
    {
     "data": {
      "text/html": [
       "<div>\n",
       "<style scoped>\n",
       "    .dataframe tbody tr th:only-of-type {\n",
       "        vertical-align: middle;\n",
       "    }\n",
       "\n",
       "    .dataframe tbody tr th {\n",
       "        vertical-align: top;\n",
       "    }\n",
       "\n",
       "    .dataframe thead th {\n",
       "        text-align: right;\n",
       "    }\n",
       "</style>\n",
       "<table border=\"1\" class=\"dataframe\">\n",
       "  <thead>\n",
       "    <tr style=\"text-align: right;\">\n",
       "      <th></th>\n",
       "      <th>a</th>\n",
       "      <th>b</th>\n",
       "      <th>c</th>\n",
       "      <th>d</th>\n",
       "      <th>e</th>\n",
       "    </tr>\n",
       "  </thead>\n",
       "  <tbody>\n",
       "    <tr>\n",
       "      <th>one</th>\n",
       "      <td>3.007277</td>\n",
       "      <td>0.388730</td>\n",
       "      <td>0.113406</td>\n",
       "      <td>2.119481</td>\n",
       "      <td>-0.975847</td>\n",
       "    </tr>\n",
       "    <tr>\n",
       "      <th>two</th>\n",
       "      <td>0.636278</td>\n",
       "      <td>0.206911</td>\n",
       "      <td>1.778134</td>\n",
       "      <td>-1.663180</td>\n",
       "      <td>-1.211043</td>\n",
       "    </tr>\n",
       "    <tr>\n",
       "      <th>three</th>\n",
       "      <td>0.946199</td>\n",
       "      <td>-0.397836</td>\n",
       "      <td>-0.127306</td>\n",
       "      <td>-0.588036</td>\n",
       "      <td>1.026060</td>\n",
       "    </tr>\n",
       "    <tr>\n",
       "      <th>four</th>\n",
       "      <td>-0.315198</td>\n",
       "      <td>-0.496803</td>\n",
       "      <td>-0.918301</td>\n",
       "      <td>0.389656</td>\n",
       "      <td>-1.515556</td>\n",
       "    </tr>\n",
       "  </tbody>\n",
       "</table>\n",
       "</div>"
      ],
      "text/plain": [
       "              a         b         c         d         e\n",
       "one    3.007277  0.388730  0.113406  2.119481 -0.975847\n",
       "two    0.636278  0.206911  1.778134 -1.663180 -1.211043\n",
       "three  0.946199 -0.397836 -0.127306 -0.588036  1.026060\n",
       "four  -0.315198 -0.496803 -0.918301  0.389656 -1.515556"
      ]
     },
     "execution_count": 1,
     "metadata": {},
     "output_type": "execute_result"
    }
   ],
   "source": [
    "import numpy as np\n",
    "import pandas as pd\n",
    "\n",
    "frame = pd.DataFrame(np.random.randn(4,5),\n",
    "                     columns=list('abcde'),\n",
    "                     index=['one', 'two', 'three', 'four'])\n",
    "frame"
   ]
  },
  {
   "cell_type": "code",
   "execution_count": 2,
   "metadata": {},
   "outputs": [
    {
     "data": {
      "text/html": [
       "<div>\n",
       "<style scoped>\n",
       "    .dataframe tbody tr th:only-of-type {\n",
       "        vertical-align: middle;\n",
       "    }\n",
       "\n",
       "    .dataframe tbody tr th {\n",
       "        vertical-align: top;\n",
       "    }\n",
       "\n",
       "    .dataframe thead th {\n",
       "        text-align: right;\n",
       "    }\n",
       "</style>\n",
       "<table border=\"1\" class=\"dataframe\">\n",
       "  <thead>\n",
       "    <tr style=\"text-align: right;\">\n",
       "      <th></th>\n",
       "      <th>a</th>\n",
       "      <th>b</th>\n",
       "      <th>c</th>\n",
       "      <th>d</th>\n",
       "      <th>e</th>\n",
       "    </tr>\n",
       "  </thead>\n",
       "  <tbody>\n",
       "    <tr>\n",
       "      <th>one</th>\n",
       "      <td>3.007277</td>\n",
       "      <td>0.388730</td>\n",
       "      <td>0.113406</td>\n",
       "      <td>2.119481</td>\n",
       "      <td>0.975847</td>\n",
       "    </tr>\n",
       "    <tr>\n",
       "      <th>two</th>\n",
       "      <td>0.636278</td>\n",
       "      <td>0.206911</td>\n",
       "      <td>1.778134</td>\n",
       "      <td>1.663180</td>\n",
       "      <td>1.211043</td>\n",
       "    </tr>\n",
       "    <tr>\n",
       "      <th>three</th>\n",
       "      <td>0.946199</td>\n",
       "      <td>0.397836</td>\n",
       "      <td>0.127306</td>\n",
       "      <td>0.588036</td>\n",
       "      <td>1.026060</td>\n",
       "    </tr>\n",
       "    <tr>\n",
       "      <th>four</th>\n",
       "      <td>0.315198</td>\n",
       "      <td>0.496803</td>\n",
       "      <td>0.918301</td>\n",
       "      <td>0.389656</td>\n",
       "      <td>1.515556</td>\n",
       "    </tr>\n",
       "  </tbody>\n",
       "</table>\n",
       "</div>"
      ],
      "text/plain": [
       "              a         b         c         d         e\n",
       "one    3.007277  0.388730  0.113406  2.119481  0.975847\n",
       "two    0.636278  0.206911  1.778134  1.663180  1.211043\n",
       "three  0.946199  0.397836  0.127306  0.588036  1.026060\n",
       "four   0.315198  0.496803  0.918301  0.389656  1.515556"
      ]
     },
     "execution_count": 2,
     "metadata": {},
     "output_type": "execute_result"
    }
   ],
   "source": [
    "# You can apply NumPy functions directly on dataframes.\n",
    "# You can, for example, calculate the absolute value of every entry\n",
    "np.abs(frame)"
   ]
  },
  {
   "cell_type": "code",
   "execution_count": 3,
   "metadata": {},
   "outputs": [
    {
     "data": {
      "text/html": [
       "<div>\n",
       "<style scoped>\n",
       "    .dataframe tbody tr th:only-of-type {\n",
       "        vertical-align: middle;\n",
       "    }\n",
       "\n",
       "    .dataframe tbody tr th {\n",
       "        vertical-align: top;\n",
       "    }\n",
       "\n",
       "    .dataframe thead th {\n",
       "        text-align: right;\n",
       "    }\n",
       "</style>\n",
       "<table border=\"1\" class=\"dataframe\">\n",
       "  <thead>\n",
       "    <tr style=\"text-align: right;\">\n",
       "      <th></th>\n",
       "      <th>a</th>\n",
       "      <th>b</th>\n",
       "      <th>c</th>\n",
       "      <th>d</th>\n",
       "      <th>e</th>\n",
       "    </tr>\n",
       "  </thead>\n",
       "  <tbody>\n",
       "    <tr>\n",
       "      <th>one</th>\n",
       "      <td>27.196948</td>\n",
       "      <td>0.058741</td>\n",
       "      <td>0.001459</td>\n",
       "      <td>9.521129</td>\n",
       "      <td>-0.929277</td>\n",
       "    </tr>\n",
       "    <tr>\n",
       "      <th>two</th>\n",
       "      <td>0.257597</td>\n",
       "      <td>0.008858</td>\n",
       "      <td>5.622036</td>\n",
       "      <td>-4.600633</td>\n",
       "      <td>-1.776145</td>\n",
       "    </tr>\n",
       "    <tr>\n",
       "      <th>three</th>\n",
       "      <td>0.847125</td>\n",
       "      <td>-0.062967</td>\n",
       "      <td>-0.002063</td>\n",
       "      <td>-0.203335</td>\n",
       "      <td>1.080236</td>\n",
       "    </tr>\n",
       "    <tr>\n",
       "      <th>four</th>\n",
       "      <td>-0.031315</td>\n",
       "      <td>-0.122617</td>\n",
       "      <td>-0.774382</td>\n",
       "      <td>0.059162</td>\n",
       "      <td>-3.481093</td>\n",
       "    </tr>\n",
       "  </tbody>\n",
       "</table>\n",
       "</div>"
      ],
      "text/plain": [
       "               a         b         c         d         e\n",
       "one    27.196948  0.058741  0.001459  9.521129 -0.929277\n",
       "two     0.257597  0.008858  5.622036 -4.600633 -1.776145\n",
       "three   0.847125 -0.062967 -0.002063 -0.203335  1.080236\n",
       "four   -0.031315 -0.122617 -0.774382  0.059162 -3.481093"
      ]
     },
     "execution_count": 3,
     "metadata": {},
     "output_type": "execute_result"
    }
   ],
   "source": [
    "# You can also calculate the 3rd power of every entry\n",
    "np.power(frame, 3)"
   ]
  },
  {
   "cell_type": "markdown",
   "metadata": {},
   "source": [
    "You can apply many of NumPy's ufuncs to Pandas data structures, in most situations they provide a result with the same dimensions of the original structure. \n",
    "\n",
    "Another important (and quite common) operation creates a new structure after applying an operation to every row or column in the original dataframe. Let's see how to create a new structure whose entries are the result of summing every column/row of our frame:"
   ]
  },
  {
   "cell_type": "code",
   "execution_count": 4,
   "metadata": {},
   "outputs": [
    {
     "data": {
      "text/plain": [
       "a    4.274556\n",
       "b   -0.298998\n",
       "c    0.845934\n",
       "d    0.257921\n",
       "e   -2.676385\n",
       "dtype: float64"
      ]
     },
     "execution_count": 4,
     "metadata": {},
     "output_type": "execute_result"
    }
   ],
   "source": [
    "# Panda's apply runs a function along an axis. \n",
    "# The default behavior is to run it using the rows axis (apply the operation on every column)\n",
    "\n",
    "# Let's produce a Series where each entry is the sum of the values in every column:\n",
    "\n",
    "ser = frame.apply(np.sum)\n",
    "ser"
   ]
  },
  {
   "cell_type": "code",
   "execution_count": 5,
   "metadata": {},
   "outputs": [
    {
     "data": {
      "text/plain": [
       "one      4.653047\n",
       "two     -0.252900\n",
       "three    0.859082\n",
       "four    -2.856201\n",
       "dtype: float64"
      ]
     },
     "execution_count": 5,
     "metadata": {},
     "output_type": "execute_result"
    }
   ],
   "source": [
    "# If you want to perform the operation using columns as an axis (the operation will be applied on a per-row basis)\n",
    "# You can pass the optional argument axis\n",
    "\n",
    "ser = frame.apply(np.sum, axis='columns')\n",
    "ser"
   ]
  },
  {
   "cell_type": "markdown",
   "metadata": {},
   "source": [
    "Again, you can use most NumPy ufuncs as an argument for the apply function, but it doesn't end there: You can define your own functions and use them with *applymap*. The following example applies a function that adds 2 to every entry:"
   ]
  },
  {
   "cell_type": "code",
   "execution_count": 6,
   "metadata": {},
   "outputs": [
    {
     "data": {
      "text/html": [
       "<div>\n",
       "<style scoped>\n",
       "    .dataframe tbody tr th:only-of-type {\n",
       "        vertical-align: middle;\n",
       "    }\n",
       "\n",
       "    .dataframe tbody tr th {\n",
       "        vertical-align: top;\n",
       "    }\n",
       "\n",
       "    .dataframe thead th {\n",
       "        text-align: right;\n",
       "    }\n",
       "</style>\n",
       "<table border=\"1\" class=\"dataframe\">\n",
       "  <thead>\n",
       "    <tr style=\"text-align: right;\">\n",
       "      <th></th>\n",
       "      <th>a</th>\n",
       "      <th>b</th>\n",
       "      <th>c</th>\n",
       "      <th>d</th>\n",
       "      <th>e</th>\n",
       "    </tr>\n",
       "  </thead>\n",
       "  <tbody>\n",
       "    <tr>\n",
       "      <th>one</th>\n",
       "      <td>5.007277</td>\n",
       "      <td>2.388730</td>\n",
       "      <td>2.113406</td>\n",
       "      <td>4.119481</td>\n",
       "      <td>1.024153</td>\n",
       "    </tr>\n",
       "    <tr>\n",
       "      <th>two</th>\n",
       "      <td>2.636278</td>\n",
       "      <td>2.206911</td>\n",
       "      <td>3.778134</td>\n",
       "      <td>0.336820</td>\n",
       "      <td>0.788957</td>\n",
       "    </tr>\n",
       "    <tr>\n",
       "      <th>three</th>\n",
       "      <td>2.946199</td>\n",
       "      <td>1.602164</td>\n",
       "      <td>1.872694</td>\n",
       "      <td>1.411964</td>\n",
       "      <td>3.026060</td>\n",
       "    </tr>\n",
       "    <tr>\n",
       "      <th>four</th>\n",
       "      <td>1.684802</td>\n",
       "      <td>1.503197</td>\n",
       "      <td>1.081699</td>\n",
       "      <td>2.389656</td>\n",
       "      <td>0.484444</td>\n",
       "    </tr>\n",
       "  </tbody>\n",
       "</table>\n",
       "</div>"
      ],
      "text/plain": [
       "              a         b         c         d         e\n",
       "one    5.007277  2.388730  2.113406  4.119481  1.024153\n",
       "two    2.636278  2.206911  3.778134  0.336820  0.788957\n",
       "three  2.946199  1.602164  1.872694  1.411964  3.026060\n",
       "four   1.684802  1.503197  1.081699  2.389656  0.484444"
      ]
     },
     "execution_count": 6,
     "metadata": {},
     "output_type": "execute_result"
    }
   ],
   "source": [
    "def sum_two(entry):\n",
    "    return entry + 2\n",
    "\n",
    "frame.applymap(sum_two)"
   ]
  },
  {
   "cell_type": "code",
   "execution_count": 7,
   "metadata": {},
   "outputs": [
    {
     "data": {
      "text/html": [
       "<div>\n",
       "<style scoped>\n",
       "    .dataframe tbody tr th:only-of-type {\n",
       "        vertical-align: middle;\n",
       "    }\n",
       "\n",
       "    .dataframe tbody tr th {\n",
       "        vertical-align: top;\n",
       "    }\n",
       "\n",
       "    .dataframe thead th {\n",
       "        text-align: right;\n",
       "    }\n",
       "</style>\n",
       "<table border=\"1\" class=\"dataframe\">\n",
       "  <thead>\n",
       "    <tr style=\"text-align: right;\">\n",
       "      <th></th>\n",
       "      <th>a</th>\n",
       "      <th>b</th>\n",
       "      <th>c</th>\n",
       "      <th>d</th>\n",
       "      <th>e</th>\n",
       "    </tr>\n",
       "  </thead>\n",
       "  <tbody>\n",
       "    <tr>\n",
       "      <th>one</th>\n",
       "      <td>6.007277</td>\n",
       "      <td>3.388730</td>\n",
       "      <td>3.113406</td>\n",
       "      <td>5.119481</td>\n",
       "      <td>2.024153</td>\n",
       "    </tr>\n",
       "    <tr>\n",
       "      <th>two</th>\n",
       "      <td>3.636278</td>\n",
       "      <td>3.206911</td>\n",
       "      <td>4.778134</td>\n",
       "      <td>1.336820</td>\n",
       "      <td>1.788957</td>\n",
       "    </tr>\n",
       "    <tr>\n",
       "      <th>three</th>\n",
       "      <td>3.946199</td>\n",
       "      <td>2.602164</td>\n",
       "      <td>2.872694</td>\n",
       "      <td>2.411964</td>\n",
       "      <td>4.026060</td>\n",
       "    </tr>\n",
       "    <tr>\n",
       "      <th>four</th>\n",
       "      <td>2.684802</td>\n",
       "      <td>2.503197</td>\n",
       "      <td>2.081699</td>\n",
       "      <td>3.389656</td>\n",
       "      <td>1.484444</td>\n",
       "    </tr>\n",
       "  </tbody>\n",
       "</table>\n",
       "</div>"
      ],
      "text/plain": [
       "              a         b         c         d         e\n",
       "one    6.007277  3.388730  3.113406  5.119481  2.024153\n",
       "two    3.636278  3.206911  4.778134  1.336820  1.788957\n",
       "three  3.946199  2.602164  2.872694  2.411964  4.026060\n",
       "four   2.684802  2.503197  2.081699  3.389656  1.484444"
      ]
     },
     "execution_count": 7,
     "metadata": {},
     "output_type": "execute_result"
    }
   ],
   "source": [
    "# You can do this using lambdas, it's usually easier to read:\n",
    "\n",
    "sum_three = lambda x: x+3\n",
    "\n",
    "frame.apply(sum_three)"
   ]
  },
  {
   "cell_type": "markdown",
   "metadata": {},
   "source": [
    "## Simple concept, endless applications\n",
    "\n",
    "Performing mappings lets you do almost anything you need with your data. Anything, from statistical aggregations to advanced machine learning tools are built upon this foundation.\n",
    "\n",
    "As you may have noticed, the concept is very simple, but knowing how to apply NumPy functions to Pandas data structures will help you on a daily basis. This is even more obvious when you start to explore the potential of applying your own functions!\n",
    "\n",
    "In the next article, we will learn about data summarization and descriptive statistics.\n",
    "\n",
    "Thank you for reading!\n"
   ]
  },
  {
   "cell_type": "markdown",
   "metadata": {},
   "source": [
    "\n"
   ]
  }
 ],
 "metadata": {
  "kernelspec": {
   "display_name": "Python 3",
   "language": "python",
   "name": "python3"
  },
  "language_info": {
   "codemirror_mode": {
    "name": "ipython",
    "version": 3
   },
   "file_extension": ".py",
   "mimetype": "text/x-python",
   "name": "python",
   "nbconvert_exporter": "python",
   "pygments_lexer": "ipython3",
   "version": "3.6.9"
  }
 },
 "nbformat": 4,
 "nbformat_minor": 2
}
