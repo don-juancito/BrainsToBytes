{
 "cells": [
  {
   "cell_type": "markdown",
   "metadata": {},
   "source": [
    "* If you are familiar with databases, this will be very familiar to the different join operations supported by most relational databases.\n",
    "\n",
    "* Pandas offers you the merge function as a way to link rows using one or more keys.\n",
    "\n",
    "* You specify the column to use as key by passing the 'on' attribute to merge \n",
    "\n",
    "```\n",
    "pd.merge(df1, df2, on='key')\n",
    "```\n",
    "\n",
    "* If the names of the columns are different, you can specify them with left_on and right_on\n",
    "\n",
    "```\n",
    "pd.merge(df3, df4, left_on='lkey', right_on='rkey')\n",
    "```\n",
    "\n",
    "* By default, merges are **inner** joins: The results are the intersection (common values) on both tables.\n",
    "\n",
    "* There is also an outer join, which performs the join with the union of the keys.\n",
    "\n",
    "* left joins use all the key combinations found in the left table.\n",
    "\n",
    "* right joins use all the key combinations found in the right table.\n",
    "\n",
    "* This is specified using the **how** attribute.\n",
    "\n",
    "* If the columns you want to use for the merge are the indexes, specify left_index and right_index to True\n",
    "\n",
    "* You can show an example of concatenation:\n",
    "\n",
    "```\n",
    "np.concatenate([arr, arr], axis=1)\n",
    "```"
   ]
  }
 ],
 "metadata": {
  "kernelspec": {
   "display_name": "Python 3",
   "language": "python",
   "name": "python3"
  },
  "language_info": {
   "codemirror_mode": {
    "name": "ipython",
    "version": 3
   },
   "file_extension": ".py",
   "mimetype": "text/x-python",
   "name": "python",
   "nbconvert_exporter": "python",
   "pygments_lexer": "ipython3",
   "version": "3.6.9"
  }
 },
 "nbformat": 4,
 "nbformat_minor": 2
}
