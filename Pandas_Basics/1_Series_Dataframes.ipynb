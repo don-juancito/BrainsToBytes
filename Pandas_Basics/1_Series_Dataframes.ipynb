{
 "cells": [
  {
   "cell_type": "markdown",
   "metadata": {},
   "source": [
    "In a previous series we covered the fundamentals of NumPy, now it's time to deal with another important tool frequently used in data analysis: Pandas.\n",
    "\n",
    "Pandas is a library for data manipulation and analysis that lets you manipulate heterogeneous data in tabular form (in contrast to NumPy, designed to work with homogeneous numerical data in array form). It includes data structures and data manipulation features that make cleaning and analyzing data a quick and easy task.\n",
    "\n",
    "It was originally developed by Wes McKinney (2008), but over the years it has gained a hugely supportive community that continually invest in improving the tool. \n",
    "\n",
    "This article will be the introduction to a series where we'll learn how to work with Pandas using a hands-on approach. If you are just starting, I recommend running a Jupyter notebook alongside and trying the examples.\n",
    "\n",
    "Great, let's start our journey talking about the two most important data structures in Pandas: Series and Dataframes."
   ]
  },
  {
   "cell_type": "code",
   "execution_count": 1,
   "metadata": {},
   "outputs": [],
   "source": [
    "# Before proceeding, we need to import pandas. The most common alias for it is pd\n",
    "import pandas as pd"
   ]
  },
  {
   "cell_type": "markdown",
   "metadata": {},
   "source": [
    "## Series"
   ]
  },
  {
   "cell_type": "markdown",
   "metadata": {},
   "source": [
    "A Series is an array-like collection containing a sequence of values and their associated set of labels (called *index*)."
   ]
  },
  {
   "cell_type": "code",
   "execution_count": 2,
   "metadata": {},
   "outputs": [
    {
     "name": "stdout",
     "output_type": "stream",
     "text": [
      "0     2\n",
      "1     4\n",
      "2     6\n",
      "3     8\n",
      "4    10\n",
      "dtype: int64\n"
     ]
    }
   ],
   "source": [
    "# You can create a series by feeding a list to pd.Series\n",
    "simple_series = pd.Series([2,4,6,8,10])\n",
    "print(simple_series)"
   ]
  },
  {
   "cell_type": "markdown",
   "metadata": {},
   "source": [
    "The column on the left is the index of our series, and the column on the right are the values. We didn't provide an index during creation, so NumPy created a default index consisting of integers starting at 0. You can pass an index parameter during creation like this:"
   ]
  },
  {
   "cell_type": "code",
   "execution_count": 3,
   "metadata": {},
   "outputs": [
    {
     "name": "stdout",
     "output_type": "stream",
     "text": [
      "dos        2\n",
      "quatre     4\n",
      "six        6\n",
      "oito       8\n",
      "dieci     10\n",
      "dtype: int64\n"
     ]
    }
   ],
   "source": [
    "series = pd.Series([2,4,6,8,10], index=['dos', 'quatre', 'six', 'oito', 'dieci'])\n",
    "print(series)"
   ]
  },
  {
   "cell_type": "code",
   "execution_count": 4,
   "metadata": {},
   "outputs": [
    {
     "name": "stdout",
     "output_type": "stream",
     "text": [
      "Index(['dos', 'quatre', 'six', 'oito', 'dieci'], dtype='object')\n"
     ]
    }
   ],
   "source": [
    "# You can retrieve the index using the .index attribute of the series\n",
    "print(series.index)"
   ]
  },
  {
   "cell_type": "markdown",
   "metadata": {},
   "source": [
    "You can retrieve elements from the series using the respective index value as if you were getting elements from a standard Python dictionary:"
   ]
  },
  {
   "cell_type": "code",
   "execution_count": 5,
   "metadata": {},
   "outputs": [
    {
     "name": "stdout",
     "output_type": "stream",
     "text": [
      "8\n"
     ]
    }
   ],
   "source": [
    "# Let's get the element whose index is 'oito'\n",
    "element = series['oito']\n",
    "print(element)"
   ]
  },
  {
   "cell_type": "code",
   "execution_count": 6,
   "metadata": {},
   "outputs": [
    {
     "name": "stdout",
     "output_type": "stream",
     "text": [
      "dieci    10\n",
      "dos       2\n",
      "six       6\n",
      "dtype: int64\n"
     ]
    }
   ],
   "source": [
    "# We can retrieve more than one element if we provide an array of indices\n",
    "elements = series[['dieci', 'dos', 'six']]\n",
    "print(elements)"
   ]
  },
  {
   "cell_type": "markdown",
   "metadata": {},
   "source": [
    "An alternative way of creating Series is by providing a dictionary as argument during creation:"
   ]
  },
  {
   "cell_type": "code",
   "execution_count": 7,
   "metadata": {},
   "outputs": [
    {
     "name": "stdout",
     "output_type": "stream",
     "text": [
      "dos        2\n",
      "quatre     4\n",
      "six        6\n",
      "oito       8\n",
      "dieci     10\n",
      "dtype: int64\n"
     ]
    }
   ],
   "source": [
    "num_data = {'dos': 2,\n",
    "            'quatre': 4,\n",
    "            'six': 6,\n",
    "            'oito': 8,\n",
    "            'dieci': 10}\n",
    "\n",
    "other_series = pd.Series(num_data)\n",
    "print(other_series)"
   ]
  },
  {
   "cell_type": "code",
   "execution_count": 8,
   "metadata": {},
   "outputs": [
    {
     "name": "stdout",
     "output_type": "stream",
     "text": [
      "doce       NaN\n",
      "dieci     10.0\n",
      "oito       8.0\n",
      "six        6.0\n",
      "quatre     4.0\n",
      "dos        2.0\n",
      "dtype: float64\n"
     ]
    }
   ],
   "source": [
    "# You can alter the order by providing an additional index argument, just be careful:\n",
    "# If you provide in the list an element that is not in the dictionary it will be filled with NA\n",
    "other_series = pd.Series(num_data, index=['doce', 'dieci', 'oito', 'six', 'quatre', 'dos'])\n",
    "print(other_series)"
   ]
  },
  {
   "cell_type": "code",
   "execution_count": 9,
   "metadata": {},
   "outputs": [
    {
     "name": "stdout",
     "output_type": "stream",
     "text": [
      "Names\n",
      "doce       NaN\n",
      "dieci     10.0\n",
      "oito       8.0\n",
      "six        6.0\n",
      "quatre     4.0\n",
      "dos        2.0\n",
      "Name: Numbers, dtype: float64\n"
     ]
    }
   ],
   "source": [
    "# As a last detail, you can assign names to both the index and values of a series\n",
    "other_series.name = 'Numbers'\n",
    "other_series.index.name = 'Names'\n",
    "print(other_series)"
   ]
  },
  {
   "cell_type": "markdown",
   "metadata": {},
   "source": [
    "## DataFrames"
   ]
  },
  {
   "cell_type": "markdown",
   "metadata": {},
   "source": [
    "DataFrames represent a rectangular array of data consisting of columns. Each column can have a different data type: some might represent numeric data like temperatures or ages, and others might contain strings or boolean entries. DataFrames count with both a column and a row index."
   ]
  },
  {
   "cell_type": "code",
   "execution_count": 10,
   "metadata": {},
   "outputs": [
    {
     "data": {
      "text/html": [
       "<div>\n",
       "<style scoped>\n",
       "    .dataframe tbody tr th:only-of-type {\n",
       "        vertical-align: middle;\n",
       "    }\n",
       "\n",
       "    .dataframe tbody tr th {\n",
       "        vertical-align: top;\n",
       "    }\n",
       "\n",
       "    .dataframe thead th {\n",
       "        text-align: right;\n",
       "    }\n",
       "</style>\n",
       "<table border=\"1\" class=\"dataframe\">\n",
       "  <thead>\n",
       "    <tr style=\"text-align: right;\">\n",
       "      <th></th>\n",
       "      <th>Name</th>\n",
       "      <th>Type</th>\n",
       "      <th>Base speed</th>\n",
       "      <th>Learns transform</th>\n",
       "    </tr>\n",
       "  </thead>\n",
       "  <tbody>\n",
       "    <tr>\n",
       "      <th>0</th>\n",
       "      <td>Abra</td>\n",
       "      <td>Psychic</td>\n",
       "      <td>90</td>\n",
       "      <td>False</td>\n",
       "    </tr>\n",
       "    <tr>\n",
       "      <th>1</th>\n",
       "      <td>Koffing</td>\n",
       "      <td>Poison</td>\n",
       "      <td>35</td>\n",
       "      <td>False</td>\n",
       "    </tr>\n",
       "    <tr>\n",
       "      <th>2</th>\n",
       "      <td>Ditto</td>\n",
       "      <td>Normal</td>\n",
       "      <td>48</td>\n",
       "      <td>True</td>\n",
       "    </tr>\n",
       "    <tr>\n",
       "      <th>3</th>\n",
       "      <td>Pikachu</td>\n",
       "      <td>Electric</td>\n",
       "      <td>90</td>\n",
       "      <td>False</td>\n",
       "    </tr>\n",
       "  </tbody>\n",
       "</table>\n",
       "</div>"
      ],
      "text/plain": [
       "      Name      Type  Base speed  Learns transform\n",
       "0     Abra   Psychic          90             False\n",
       "1  Koffing    Poison          35             False\n",
       "2    Ditto    Normal          48              True\n",
       "3  Pikachu  Electric          90             False"
      ]
     },
     "execution_count": 10,
     "metadata": {},
     "output_type": "execute_result"
    }
   ],
   "source": [
    "# DataFrames can also be created from dictionaries\n",
    "\n",
    "poke_data = {'Name': ['Abra', 'Koffing', 'Ditto', 'Pikachu'],\n",
    "             'Type': ['Psychic', 'Poison', 'Normal', 'Electric'],\n",
    "             'Base speed': [90, 35, 48, 90],\n",
    "             'Learns transform': [False, False, True, False]}\n",
    "\n",
    "poke_frame = pd.DataFrame(poke_data)\n",
    "poke_frame"
   ]
  },
  {
   "cell_type": "code",
   "execution_count": 11,
   "metadata": {},
   "outputs": [
    {
     "name": "stdout",
     "output_type": "stream",
     "text": [
      "0    90\n",
      "1    35\n",
      "2    48\n",
      "3    90\n",
      "Name: Base speed, dtype: int64\n"
     ]
    }
   ],
   "source": [
    "# You can retrieve dataframe columns (as a Series object) using either dictionary-like syntax or by attribute\n",
    "\n",
    "poke_speeds = poke_frame['Base speed']\n",
    "print(poke_speeds)"
   ]
  },
  {
   "cell_type": "code",
   "execution_count": 12,
   "metadata": {},
   "outputs": [
    {
     "name": "stdout",
     "output_type": "stream",
     "text": [
      "0     Psychic\n",
      "1      Poison\n",
      "2      Normal\n",
      "3    Electric\n",
      "Name: Type, dtype: object\n"
     ]
    }
   ],
   "source": [
    "poke_types = poke_frame.Type\n",
    "print(poke_types)"
   ]
  },
  {
   "cell_type": "code",
   "execution_count": 13,
   "metadata": {},
   "outputs": [
    {
     "name": "stdout",
     "output_type": "stream",
     "text": [
      "Name                   Abra\n",
      "Type                Psychic\n",
      "Base speed               90\n",
      "Learns transform      False\n",
      "Name: 0, dtype: object\n"
     ]
    }
   ],
   "source": [
    "# Rows can be retrieved using the loc you can use the loc function and providing the right index\n",
    "\n",
    "abra_data = poke_frame.loc[0]\n",
    "print(abra_data)"
   ]
  },
  {
   "cell_type": "code",
   "execution_count": 14,
   "metadata": {},
   "outputs": [
    {
     "data": {
      "text/html": [
       "<div>\n",
       "<style scoped>\n",
       "    .dataframe tbody tr th:only-of-type {\n",
       "        vertical-align: middle;\n",
       "    }\n",
       "\n",
       "    .dataframe tbody tr th {\n",
       "        vertical-align: top;\n",
       "    }\n",
       "\n",
       "    .dataframe thead th {\n",
       "        text-align: right;\n",
       "    }\n",
       "</style>\n",
       "<table border=\"1\" class=\"dataframe\">\n",
       "  <thead>\n",
       "    <tr style=\"text-align: right;\">\n",
       "      <th></th>\n",
       "      <th>Name</th>\n",
       "      <th>Type</th>\n",
       "      <th>Base speed</th>\n",
       "      <th>Learns transform</th>\n",
       "    </tr>\n",
       "  </thead>\n",
       "  <tbody>\n",
       "    <tr>\n",
       "      <th>0</th>\n",
       "      <td>Cute Abra</td>\n",
       "      <td>Psychic</td>\n",
       "      <td>90</td>\n",
       "      <td>False</td>\n",
       "    </tr>\n",
       "    <tr>\n",
       "      <th>1</th>\n",
       "      <td>Cute Koffing</td>\n",
       "      <td>Poison</td>\n",
       "      <td>35</td>\n",
       "      <td>False</td>\n",
       "    </tr>\n",
       "    <tr>\n",
       "      <th>2</th>\n",
       "      <td>Cute Ditto</td>\n",
       "      <td>Normal</td>\n",
       "      <td>48</td>\n",
       "      <td>True</td>\n",
       "    </tr>\n",
       "    <tr>\n",
       "      <th>3</th>\n",
       "      <td>Cute Pikachu</td>\n",
       "      <td>Electric</td>\n",
       "      <td>90</td>\n",
       "      <td>False</td>\n",
       "    </tr>\n",
       "  </tbody>\n",
       "</table>\n",
       "</div>"
      ],
      "text/plain": [
       "           Name      Type  Base speed  Learns transform\n",
       "0     Cute Abra   Psychic          90             False\n",
       "1  Cute Koffing    Poison          35             False\n",
       "2    Cute Ditto    Normal          48              True\n",
       "3  Cute Pikachu  Electric          90             False"
      ]
     },
     "execution_count": 14,
     "metadata": {},
     "output_type": "execute_result"
    }
   ],
   "source": [
    "# You can update the values of a column using standard assignment\n",
    "# Let's update the names with 'cute' versions\n",
    "\n",
    "poke_frame['Name'] = ['Cute Abra', 'Cute Koffing', 'Cute Ditto', 'Cute Pikachu']\n",
    "poke_frame"
   ]
  },
  {
   "cell_type": "code",
   "execution_count": 15,
   "metadata": {},
   "outputs": [
    {
     "data": {
      "text/html": [
       "<div>\n",
       "<style scoped>\n",
       "    .dataframe tbody tr th:only-of-type {\n",
       "        vertical-align: middle;\n",
       "    }\n",
       "\n",
       "    .dataframe tbody tr th {\n",
       "        vertical-align: top;\n",
       "    }\n",
       "\n",
       "    .dataframe thead th {\n",
       "        text-align: right;\n",
       "    }\n",
       "</style>\n",
       "<table border=\"1\" class=\"dataframe\">\n",
       "  <thead>\n",
       "    <tr style=\"text-align: right;\">\n",
       "      <th></th>\n",
       "      <th>Name</th>\n",
       "      <th>Type</th>\n",
       "      <th>Base speed</th>\n",
       "      <th>Learns transform</th>\n",
       "      <th>Yellow</th>\n",
       "    </tr>\n",
       "  </thead>\n",
       "  <tbody>\n",
       "    <tr>\n",
       "      <th>0</th>\n",
       "      <td>Cute Abra</td>\n",
       "      <td>Psychic</td>\n",
       "      <td>90</td>\n",
       "      <td>False</td>\n",
       "      <td>True</td>\n",
       "    </tr>\n",
       "    <tr>\n",
       "      <th>1</th>\n",
       "      <td>Cute Koffing</td>\n",
       "      <td>Poison</td>\n",
       "      <td>35</td>\n",
       "      <td>False</td>\n",
       "      <td>False</td>\n",
       "    </tr>\n",
       "    <tr>\n",
       "      <th>2</th>\n",
       "      <td>Cute Ditto</td>\n",
       "      <td>Normal</td>\n",
       "      <td>48</td>\n",
       "      <td>True</td>\n",
       "      <td>False</td>\n",
       "    </tr>\n",
       "    <tr>\n",
       "      <th>3</th>\n",
       "      <td>Cute Pikachu</td>\n",
       "      <td>Electric</td>\n",
       "      <td>90</td>\n",
       "      <td>False</td>\n",
       "      <td>True</td>\n",
       "    </tr>\n",
       "  </tbody>\n",
       "</table>\n",
       "</div>"
      ],
      "text/plain": [
       "           Name      Type  Base speed  Learns transform  Yellow\n",
       "0     Cute Abra   Psychic          90             False    True\n",
       "1  Cute Koffing    Poison          35             False   False\n",
       "2    Cute Ditto    Normal          48              True   False\n",
       "3  Cute Pikachu  Electric          90             False    True"
      ]
     },
     "execution_count": 15,
     "metadata": {},
     "output_type": "execute_result"
    }
   ],
   "source": [
    "# If you perform the assignment to a column that doesn't exist yet, a new one will be created\n",
    "poke_frame['Yellow'] = [True, False, False, True]\n",
    "poke_frame"
   ]
  },
  {
   "cell_type": "code",
   "execution_count": 16,
   "metadata": {},
   "outputs": [
    {
     "data": {
      "text/html": [
       "<div>\n",
       "<style scoped>\n",
       "    .dataframe tbody tr th:only-of-type {\n",
       "        vertical-align: middle;\n",
       "    }\n",
       "\n",
       "    .dataframe tbody tr th {\n",
       "        vertical-align: top;\n",
       "    }\n",
       "\n",
       "    .dataframe thead th {\n",
       "        text-align: right;\n",
       "    }\n",
       "</style>\n",
       "<table border=\"1\" class=\"dataframe\">\n",
       "  <thead>\n",
       "    <tr style=\"text-align: right;\">\n",
       "      <th></th>\n",
       "      <th>Name</th>\n",
       "      <th>Type</th>\n",
       "      <th>Base speed</th>\n",
       "      <th>Learns transform</th>\n",
       "    </tr>\n",
       "  </thead>\n",
       "  <tbody>\n",
       "    <tr>\n",
       "      <th>0</th>\n",
       "      <td>Cute Abra</td>\n",
       "      <td>Psychic</td>\n",
       "      <td>90</td>\n",
       "      <td>False</td>\n",
       "    </tr>\n",
       "    <tr>\n",
       "      <th>1</th>\n",
       "      <td>Cute Koffing</td>\n",
       "      <td>Poison</td>\n",
       "      <td>35</td>\n",
       "      <td>False</td>\n",
       "    </tr>\n",
       "    <tr>\n",
       "      <th>2</th>\n",
       "      <td>Cute Ditto</td>\n",
       "      <td>Normal</td>\n",
       "      <td>48</td>\n",
       "      <td>True</td>\n",
       "    </tr>\n",
       "    <tr>\n",
       "      <th>3</th>\n",
       "      <td>Cute Pikachu</td>\n",
       "      <td>Electric</td>\n",
       "      <td>90</td>\n",
       "      <td>False</td>\n",
       "    </tr>\n",
       "  </tbody>\n",
       "</table>\n",
       "</div>"
      ],
      "text/plain": [
       "           Name      Type  Base speed  Learns transform\n",
       "0     Cute Abra   Psychic          90             False\n",
       "1  Cute Koffing    Poison          35             False\n",
       "2    Cute Ditto    Normal          48              True\n",
       "3  Cute Pikachu  Electric          90             False"
      ]
     },
     "execution_count": 16,
     "metadata": {},
     "output_type": "execute_result"
    }
   ],
   "source": [
    "# And finally, if you want to get rid of a specific column you can use del\n",
    "del poke_frame['Yellow']\n",
    "poke_frame"
   ]
  },
  {
   "cell_type": "markdown",
   "metadata": {},
   "source": [
    "## These are just the first steps\n",
    "\n",
    "I think that is enough for an introduction. All you need to remember is that DataFrames represent tabular data and Series represent just a row (or column) of data at a time. \n",
    "\n",
    "In the next articles we will learn some useful techniques for manipulating and analyzing data. All that knowledge is built on top of the foundations we just learned, so feel free to experiment a bit on your own to solidify your understanding. Create a couple of dataframes and series with data you know: Groceries, pets, fundamental particles.\n",
    "\n",
    "Thank you for reading!"
   ]
  }
 ],
 "metadata": {
  "kernelspec": {
   "display_name": "Python 3",
   "language": "python",
   "name": "python3"
  },
  "language_info": {
   "codemirror_mode": {
    "name": "ipython",
    "version": 3
   },
   "file_extension": ".py",
   "mimetype": "text/x-python",
   "name": "python",
   "nbconvert_exporter": "python",
   "pygments_lexer": "ipython3",
   "version": "3.6.9"
  }
 },
 "nbformat": 4,
 "nbformat_minor": 2
}
