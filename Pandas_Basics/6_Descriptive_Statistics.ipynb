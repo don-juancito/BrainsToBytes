{
 "cells": [
  {
   "cell_type": "markdown",
   "metadata": {},
   "source": [
    "Pandas provides many options for calculating descriptive statistics and other reduction operations with just a simple function call. You might want to calculate these values as part of a ML/Data Analysis pipeline, or just because you want to get a better understanding of the data you are dealing with.\n",
    "\n",
    "Most of these operations are similar to NumPy reductions, as they compute and return a single value. In some cases, it returns a structure with equal-or-fewer dimensions than the original.\n",
    "\n",
    "In this article, we will explore some of the most used functions and see some examples. Great, let's get started!"
   ]
  },
  {
   "cell_type": "code",
   "execution_count": 1,
   "metadata": {},
   "outputs": [
    {
     "data": {
      "text/html": [
       "<div>\n",
       "<style scoped>\n",
       "    .dataframe tbody tr th:only-of-type {\n",
       "        vertical-align: middle;\n",
       "    }\n",
       "\n",
       "    .dataframe tbody tr th {\n",
       "        vertical-align: top;\n",
       "    }\n",
       "\n",
       "    .dataframe thead th {\n",
       "        text-align: right;\n",
       "    }\n",
       "</style>\n",
       "<table border=\"1\" class=\"dataframe\">\n",
       "  <thead>\n",
       "    <tr style=\"text-align: right;\">\n",
       "      <th></th>\n",
       "      <th>One</th>\n",
       "      <th>Two</th>\n",
       "      <th>Three</th>\n",
       "      <th>Four</th>\n",
       "      <th>Five</th>\n",
       "    </tr>\n",
       "  </thead>\n",
       "  <tbody>\n",
       "    <tr>\n",
       "      <th>A</th>\n",
       "      <td>0.973939</td>\n",
       "      <td>0.427195</td>\n",
       "      <td>0.790004</td>\n",
       "      <td>0.027722</td>\n",
       "      <td>0.686339</td>\n",
       "    </tr>\n",
       "    <tr>\n",
       "      <th>B</th>\n",
       "      <td>0.190250</td>\n",
       "      <td>0.891813</td>\n",
       "      <td>0.238110</td>\n",
       "      <td>0.636394</td>\n",
       "      <td>0.104428</td>\n",
       "    </tr>\n",
       "    <tr>\n",
       "      <th>C</th>\n",
       "      <td>0.951482</td>\n",
       "      <td>0.207945</td>\n",
       "      <td>0.081066</td>\n",
       "      <td>0.815889</td>\n",
       "      <td>0.785882</td>\n",
       "    </tr>\n",
       "    <tr>\n",
       "      <th>D</th>\n",
       "      <td>0.699541</td>\n",
       "      <td>0.154921</td>\n",
       "      <td>0.752932</td>\n",
       "      <td>0.066052</td>\n",
       "      <td>0.825628</td>\n",
       "    </tr>\n",
       "  </tbody>\n",
       "</table>\n",
       "</div>"
      ],
      "text/plain": [
       "        One       Two     Three      Four      Five\n",
       "A  0.973939  0.427195  0.790004  0.027722  0.686339\n",
       "B  0.190250  0.891813  0.238110  0.636394  0.104428\n",
       "C  0.951482  0.207945  0.081066  0.815889  0.785882\n",
       "D  0.699541  0.154921  0.752932  0.066052  0.825628"
      ]
     },
     "execution_count": 1,
     "metadata": {},
     "output_type": "execute_result"
    }
   ],
   "source": [
    "import pandas as pd\n",
    "import numpy as np\n",
    "\n",
    "frame = pd.DataFrame(np.random.rand(4,5),\n",
    "                     index=['A', 'B', 'C', 'D'],\n",
    "                     columns=['One', 'Two', 'Three', 'Four', 'Five'])\n",
    "frame"
   ]
  },
  {
   "cell_type": "markdown",
   "metadata": {},
   "source": [
    "The first thing we will learn is how to perform sums. The ```sum``` function performs sums along the rows axis by default (returns the sum of the values of every column). You can pass ```axis='columns'``` as an additional parameter to perform the sum along the columns axis:"
   ]
  },
  {
   "cell_type": "code",
   "execution_count": 2,
   "metadata": {},
   "outputs": [
    {
     "data": {
      "text/plain": [
       "One      2.815213\n",
       "Two      1.681874\n",
       "Three    1.862111\n",
       "Four     1.546057\n",
       "Five     2.402276\n",
       "dtype: float64"
      ]
     },
     "execution_count": 2,
     "metadata": {},
     "output_type": "execute_result"
    }
   ],
   "source": [
    "frame.sum()"
   ]
  },
  {
   "cell_type": "code",
   "execution_count": 3,
   "metadata": {},
   "outputs": [
    {
     "data": {
      "text/plain": [
       "A    2.905198\n",
       "B    2.060995\n",
       "C    2.842264\n",
       "D    2.499073\n",
       "dtype: float64"
      ]
     },
     "execution_count": 3,
     "metadata": {},
     "output_type": "execute_result"
    }
   ],
   "source": [
    "frame.sum(axis='columns')"
   ]
  },
  {
   "cell_type": "markdown",
   "metadata": {},
   "source": [
    "Pandas also lets you calculate the minimum and maximum values in a dataframe's columns or rows, for this, it provides the functions ```min``` and ```max```. Like before, you can specify the axis:"
   ]
  },
  {
   "cell_type": "code",
   "execution_count": 4,
   "metadata": {},
   "outputs": [
    {
     "data": {
      "text/plain": [
       "One      0.973939\n",
       "Two      0.891813\n",
       "Three    0.790004\n",
       "Four     0.815889\n",
       "Five     0.825628\n",
       "dtype: float64"
      ]
     },
     "execution_count": 4,
     "metadata": {},
     "output_type": "execute_result"
    }
   ],
   "source": [
    "frame.max()"
   ]
  },
  {
   "cell_type": "code",
   "execution_count": 5,
   "metadata": {},
   "outputs": [
    {
     "data": {
      "text/plain": [
       "A    0.027722\n",
       "B    0.104428\n",
       "C    0.081066\n",
       "D    0.066052\n",
       "dtype: float64"
      ]
     },
     "execution_count": 5,
     "metadata": {},
     "output_type": "execute_result"
    }
   ],
   "source": [
    "frame.min(axis='columns')"
   ]
  },
  {
   "cell_type": "markdown",
   "metadata": {},
   "source": [
    "If instead, you are interested in the *indexes* where the minimum and maximum values are, just use ```idxmax``` and ```idxmin```:"
   ]
  },
  {
   "cell_type": "code",
   "execution_count": 6,
   "metadata": {},
   "outputs": [
    {
     "data": {
      "text/plain": [
       "One      A\n",
       "Two      B\n",
       "Three    A\n",
       "Four     C\n",
       "Five     D\n",
       "dtype: object"
      ]
     },
     "execution_count": 6,
     "metadata": {},
     "output_type": "execute_result"
    }
   ],
   "source": [
    "frame.idxmax() # All columns have their maximum values at row D"
   ]
  },
  {
   "cell_type": "code",
   "execution_count": 7,
   "metadata": {},
   "outputs": [
    {
     "data": {
      "text/plain": [
       "A     Four\n",
       "B     Five\n",
       "C    Three\n",
       "D     Four\n",
       "dtype: object"
      ]
     },
     "execution_count": 7,
     "metadata": {},
     "output_type": "execute_result"
    }
   ],
   "source": [
    "frame.idxmin(axis='columns') # All rows have their minimum at column One"
   ]
  },
  {
   "cell_type": "markdown",
   "metadata": {},
   "source": [
    "Pandas also has functions for calculating (among many others) the mean, median, standard deviation and variance:"
   ]
  },
  {
   "cell_type": "code",
   "execution_count": 8,
   "metadata": {},
   "outputs": [
    {
     "data": {
      "text/plain": [
       "One      0.703803\n",
       "Two      0.420468\n",
       "Three    0.465528\n",
       "Four     0.386514\n",
       "Five     0.600569\n",
       "dtype: float64"
      ]
     },
     "execution_count": 8,
     "metadata": {},
     "output_type": "execute_result"
    }
   ],
   "source": [
    "frame.mean()"
   ]
  },
  {
   "cell_type": "code",
   "execution_count": 9,
   "metadata": {},
   "outputs": [
    {
     "data": {
      "text/plain": [
       "A    0.686339\n",
       "B    0.238110\n",
       "C    0.785882\n",
       "D    0.699541\n",
       "dtype: float64"
      ]
     },
     "execution_count": 9,
     "metadata": {},
     "output_type": "execute_result"
    }
   ],
   "source": [
    "frame.median(axis='columns')"
   ]
  },
  {
   "cell_type": "code",
   "execution_count": 10,
   "metadata": {},
   "outputs": [
    {
     "data": {
      "text/plain": [
       "One      0.132691\n",
       "Two      0.112631\n",
       "Three    0.129139\n",
       "Four     0.159410\n",
       "Five     0.112835\n",
       "dtype: float64"
      ]
     },
     "execution_count": 10,
     "metadata": {},
     "output_type": "execute_result"
    }
   ],
   "source": [
    "frame.var()"
   ]
  },
  {
   "cell_type": "code",
   "execution_count": 11,
   "metadata": {},
   "outputs": [
    {
     "data": {
      "text/plain": [
       "A    0.134738\n",
       "B    0.113646\n",
       "C    0.155681\n",
       "D    0.129304\n",
       "dtype: float64"
      ]
     },
     "execution_count": 11,
     "metadata": {},
     "output_type": "execute_result"
    }
   ],
   "source": [
    "frame.var(axis='columns')"
   ]
  },
  {
   "cell_type": "code",
   "execution_count": 12,
   "metadata": {},
   "outputs": [
    {
     "data": {
      "text/plain": [
       "One      0.364268\n",
       "Two      0.335605\n",
       "Three    0.359358\n",
       "Four     0.399262\n",
       "Five     0.335909\n",
       "dtype: float64"
      ]
     },
     "execution_count": 12,
     "metadata": {},
     "output_type": "execute_result"
    }
   ],
   "source": [
    "frame.std()"
   ]
  },
  {
   "cell_type": "code",
   "execution_count": 13,
   "metadata": {},
   "outputs": [
    {
     "data": {
      "text/plain": [
       "A    0.367067\n",
       "B    0.337114\n",
       "C    0.394564\n",
       "D    0.359588\n",
       "dtype: float64"
      ]
     },
     "execution_count": 13,
     "metadata": {},
     "output_type": "execute_result"
    }
   ],
   "source": [
    "frame.std(axis='columns')"
   ]
  },
  {
   "cell_type": "markdown",
   "metadata": {},
   "source": [
    "Pandas also has an incredibly useful function called ```describe```. It will calculate a battery of standard reductions and show you the summary:"
   ]
  },
  {
   "cell_type": "code",
   "execution_count": 14,
   "metadata": {},
   "outputs": [
    {
     "data": {
      "text/html": [
       "<div>\n",
       "<style scoped>\n",
       "    .dataframe tbody tr th:only-of-type {\n",
       "        vertical-align: middle;\n",
       "    }\n",
       "\n",
       "    .dataframe tbody tr th {\n",
       "        vertical-align: top;\n",
       "    }\n",
       "\n",
       "    .dataframe thead th {\n",
       "        text-align: right;\n",
       "    }\n",
       "</style>\n",
       "<table border=\"1\" class=\"dataframe\">\n",
       "  <thead>\n",
       "    <tr style=\"text-align: right;\">\n",
       "      <th></th>\n",
       "      <th>One</th>\n",
       "      <th>Two</th>\n",
       "      <th>Three</th>\n",
       "      <th>Four</th>\n",
       "      <th>Five</th>\n",
       "    </tr>\n",
       "  </thead>\n",
       "  <tbody>\n",
       "    <tr>\n",
       "      <th>count</th>\n",
       "      <td>4.000000</td>\n",
       "      <td>4.000000</td>\n",
       "      <td>4.000000</td>\n",
       "      <td>4.000000</td>\n",
       "      <td>4.000000</td>\n",
       "    </tr>\n",
       "    <tr>\n",
       "      <th>mean</th>\n",
       "      <td>0.703803</td>\n",
       "      <td>0.420468</td>\n",
       "      <td>0.465528</td>\n",
       "      <td>0.386514</td>\n",
       "      <td>0.600569</td>\n",
       "    </tr>\n",
       "    <tr>\n",
       "      <th>std</th>\n",
       "      <td>0.364268</td>\n",
       "      <td>0.335605</td>\n",
       "      <td>0.359358</td>\n",
       "      <td>0.399262</td>\n",
       "      <td>0.335909</td>\n",
       "    </tr>\n",
       "    <tr>\n",
       "      <th>min</th>\n",
       "      <td>0.190250</td>\n",
       "      <td>0.154921</td>\n",
       "      <td>0.081066</td>\n",
       "      <td>0.027722</td>\n",
       "      <td>0.104428</td>\n",
       "    </tr>\n",
       "    <tr>\n",
       "      <th>25%</th>\n",
       "      <td>0.572218</td>\n",
       "      <td>0.194689</td>\n",
       "      <td>0.198849</td>\n",
       "      <td>0.056470</td>\n",
       "      <td>0.540861</td>\n",
       "    </tr>\n",
       "    <tr>\n",
       "      <th>50%</th>\n",
       "      <td>0.825512</td>\n",
       "      <td>0.317570</td>\n",
       "      <td>0.495521</td>\n",
       "      <td>0.351223</td>\n",
       "      <td>0.736110</td>\n",
       "    </tr>\n",
       "    <tr>\n",
       "      <th>75%</th>\n",
       "      <td>0.957096</td>\n",
       "      <td>0.543349</td>\n",
       "      <td>0.762200</td>\n",
       "      <td>0.681268</td>\n",
       "      <td>0.795818</td>\n",
       "    </tr>\n",
       "    <tr>\n",
       "      <th>max</th>\n",
       "      <td>0.973939</td>\n",
       "      <td>0.891813</td>\n",
       "      <td>0.790004</td>\n",
       "      <td>0.815889</td>\n",
       "      <td>0.825628</td>\n",
       "    </tr>\n",
       "  </tbody>\n",
       "</table>\n",
       "</div>"
      ],
      "text/plain": [
       "            One       Two     Three      Four      Five\n",
       "count  4.000000  4.000000  4.000000  4.000000  4.000000\n",
       "mean   0.703803  0.420468  0.465528  0.386514  0.600569\n",
       "std    0.364268  0.335605  0.359358  0.399262  0.335909\n",
       "min    0.190250  0.154921  0.081066  0.027722  0.104428\n",
       "25%    0.572218  0.194689  0.198849  0.056470  0.540861\n",
       "50%    0.825512  0.317570  0.495521  0.351223  0.736110\n",
       "75%    0.957096  0.543349  0.762200  0.681268  0.795818\n",
       "max    0.973939  0.891813  0.790004  0.815889  0.825628"
      ]
     },
     "execution_count": 14,
     "metadata": {},
     "output_type": "execute_result"
    }
   ],
   "source": [
    "frame.describe()"
   ]
  },
  {
   "cell_type": "markdown",
   "metadata": {},
   "source": [
    "The last thing we will learn about is correlation. You can use the ```corr``` method to calculate the correlation between two columns (or rows) of a dataframe. This is something you will probably do often if you are into data exploration/analysis:"
   ]
  },
  {
   "cell_type": "code",
   "execution_count": 15,
   "metadata": {},
   "outputs": [
    {
     "data": {
      "text/plain": [
       "0.879646855332041"
      ]
     },
     "execution_count": 15,
     "metadata": {},
     "output_type": "execute_result"
    }
   ],
   "source": [
    "# Calculate the correlation between the columns One and Three\n",
    "frame['One'].corr(frame['Five'])\n"
   ]
  },
  {
   "cell_type": "markdown",
   "metadata": {},
   "source": [
    "You can provide an additional parameter ```method``` to specify the correlation method used, the options are:\n",
    "* pearson : Standard correlation coefficient\n",
    "* kendall : Kendall Tau correlation coefficient\n",
    "* spearman : Spearman rank correlation"
   ]
  },
  {
   "cell_type": "code",
   "execution_count": 16,
   "metadata": {},
   "outputs": [
    {
     "data": {
      "text/plain": [
       "0.19999999999999998"
      ]
     },
     "execution_count": 16,
     "metadata": {},
     "output_type": "execute_result"
    }
   ],
   "source": [
    "frame['One'].corr(frame['Five'], method='spearman')"
   ]
  },
  {
   "cell_type": "markdown",
   "metadata": {},
   "source": [
    "Alternatively, you can calculate the correlation matrix of the dataframe by just calling the ```corr``` method:"
   ]
  },
  {
   "cell_type": "code",
   "execution_count": 17,
   "metadata": {},
   "outputs": [
    {
     "data": {
      "text/html": [
       "<div>\n",
       "<style scoped>\n",
       "    .dataframe tbody tr th:only-of-type {\n",
       "        vertical-align: middle;\n",
       "    }\n",
       "\n",
       "    .dataframe tbody tr th {\n",
       "        vertical-align: top;\n",
       "    }\n",
       "\n",
       "    .dataframe thead th {\n",
       "        text-align: right;\n",
       "    }\n",
       "</style>\n",
       "<table border=\"1\" class=\"dataframe\">\n",
       "  <thead>\n",
       "    <tr style=\"text-align: right;\">\n",
       "      <th></th>\n",
       "      <th>One</th>\n",
       "      <th>Two</th>\n",
       "      <th>Three</th>\n",
       "      <th>Four</th>\n",
       "      <th>Five</th>\n",
       "    </tr>\n",
       "  </thead>\n",
       "  <tbody>\n",
       "    <tr>\n",
       "      <th>One</th>\n",
       "      <td>1.000000</td>\n",
       "      <td>-0.795497</td>\n",
       "      <td>0.275002</td>\n",
       "      <td>-0.269384</td>\n",
       "      <td>0.879647</td>\n",
       "    </tr>\n",
       "    <tr>\n",
       "      <th>Two</th>\n",
       "      <td>-0.795497</td>\n",
       "      <td>1.000000</td>\n",
       "      <td>-0.275345</td>\n",
       "      <td>0.271683</td>\n",
       "      <td>-0.982924</td>\n",
       "    </tr>\n",
       "    <tr>\n",
       "      <th>Three</th>\n",
       "      <td>0.275002</td>\n",
       "      <td>-0.275345</td>\n",
       "      <td>1.000000</td>\n",
       "      <td>-0.999982</td>\n",
       "      <td>0.370300</td>\n",
       "    </tr>\n",
       "    <tr>\n",
       "      <th>Four</th>\n",
       "      <td>-0.269384</td>\n",
       "      <td>0.271683</td>\n",
       "      <td>-0.999982</td>\n",
       "      <td>1.000000</td>\n",
       "      <td>-0.366111</td>\n",
       "    </tr>\n",
       "    <tr>\n",
       "      <th>Five</th>\n",
       "      <td>0.879647</td>\n",
       "      <td>-0.982924</td>\n",
       "      <td>0.370300</td>\n",
       "      <td>-0.366111</td>\n",
       "      <td>1.000000</td>\n",
       "    </tr>\n",
       "  </tbody>\n",
       "</table>\n",
       "</div>"
      ],
      "text/plain": [
       "            One       Two     Three      Four      Five\n",
       "One    1.000000 -0.795497  0.275002 -0.269384  0.879647\n",
       "Two   -0.795497  1.000000 -0.275345  0.271683 -0.982924\n",
       "Three  0.275002 -0.275345  1.000000 -0.999982  0.370300\n",
       "Four  -0.269384  0.271683 -0.999982  1.000000 -0.366111\n",
       "Five   0.879647 -0.982924  0.370300 -0.366111  1.000000"
      ]
     },
     "execution_count": 17,
     "metadata": {},
     "output_type": "execute_result"
    }
   ],
   "source": [
    "frame.corr()"
   ]
  },
  {
   "cell_type": "markdown",
   "metadata": {},
   "source": [
    "## Understanding data usually starts with a call to describe or corr\n",
    "\n",
    "Calculating a few values from your data can grant you a better understanding of the phenomenon that generated it.\n",
    "\n",
    "One of the first things you will do when selecting features for a ML algorithm is plotting the result of the correlation matrix. This will give you an idea of which features have a better shot at predicting labels if you intend to train a supervised model.\n",
    "\n",
    "This, again, is just an example of the many applications of statistical analysis, and these are just some basic functions to aid you in the process.\n",
    "\n",
    "Now that we learned the basics, we need to talk about pulling the data into Pandas. In the next article, we will learn how to create dataframes from common file formats.\n",
    "\n",
    "Thank you for reading!"
   ]
  }
 ],
 "metadata": {
  "kernelspec": {
   "display_name": "Python 3",
   "language": "python",
   "name": "python3"
  },
  "language_info": {
   "codemirror_mode": {
    "name": "ipython",
    "version": 3
   },
   "file_extension": ".py",
   "mimetype": "text/x-python",
   "name": "python",
   "nbconvert_exporter": "python",
   "pygments_lexer": "ipython3",
   "version": "3.6.9"
  }
 },
 "nbformat": 4,
 "nbformat_minor": 2
}
