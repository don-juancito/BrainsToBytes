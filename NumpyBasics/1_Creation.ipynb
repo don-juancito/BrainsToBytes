{
 "cells": [
  {
   "cell_type": "markdown",
   "metadata": {},
   "source": [
    "NumPy (an acronym for Numeric Python) is a library for working with multi-dimensional arrays and matrices. It was created in 2005 by Travis Oliphant, and since then received numerous contributions from the community that enabled it to grow into one of the most used tools in data science.\n",
    "\n",
    "NumPy lets you manipulate huge arrays in a very performant way. This is thanks to a well-implemented low-level layer (written mostly in C) that does most of the heavy lifting. A Python layer on top lets you use its powerful computational capabilities with friendly syntax.\n",
    "\n",
    "This article series is centered around NumPy, and has a much more *tutorialy* vibe. Code along and write the examples, I believe that's by far the easiest way of learning.\n",
    "\n",
    "## ndarrays\n",
    "\n",
    "*ndarray* is the central data structure in NumPy. Think about it as an array with a lot of extra functionality and much better performance. It supports a great variety of *vectorized* operations that will let you perform calculations with a concise syntax and good performance.\n",
    "\n",
    "In this article, we will learn about some of the most common ways of creating ndarrays. Good, let's get started!\n",
    "\n",
    "Oh, but before we get started, let's first import NumPy. The standard alias for NumPy is np, and it is usually imported this way:"
   ]
  },
  {
   "cell_type": "code",
   "execution_count": 1,
   "metadata": {},
   "outputs": [],
   "source": [
    "import numpy as np"
   ]
  },
  {
   "cell_type": "markdown",
   "metadata": {},
   "source": [
    "You can create ndarrays from sequence-like objects, like lists or tuples. In the following example we create a standard Python list and then convert it into a ndarray using the *np.array* method:"
   ]
  },
  {
   "cell_type": "code",
   "execution_count": 2,
   "metadata": {},
   "outputs": [
    {
     "data": {
      "text/plain": [
       "array([ 2,  3,  5,  7, 11, 13, 17])"
      ]
     },
     "execution_count": 2,
     "metadata": {},
     "output_type": "execute_result"
    }
   ],
   "source": [
    "primes = [2, 3, 5, 7, 11, 13, 17]\n",
    "arr = np.array(primes)\n",
    "arr"
   ]
  },
  {
   "cell_type": "markdown",
   "metadata": {},
   "source": [
    "There are two pieces of interesting data about an ndarray: \n",
    "* Shape: Is the shape of the array, simple as that. For example, a ndarray with shape 3,5 is a matrix with 3 rows and 5 columns.\n",
    "* dtype: The data type of the entries in the array. These values are inferred dynamically at creation time but can be specified during creation or typecasted after the array was created."
   ]
  },
  {
   "cell_type": "code",
   "execution_count": 3,
   "metadata": {},
   "outputs": [
    {
     "data": {
      "text/plain": [
       "(7,)"
      ]
     },
     "execution_count": 3,
     "metadata": {},
     "output_type": "execute_result"
    }
   ],
   "source": [
    "arr.shape"
   ]
  },
  {
   "cell_type": "code",
   "execution_count": 4,
   "metadata": {},
   "outputs": [
    {
     "data": {
      "text/plain": [
       "dtype('int64')"
      ]
     },
     "execution_count": 4,
     "metadata": {},
     "output_type": "execute_result"
    }
   ],
   "source": [
    "arr.dtype"
   ]
  },
  {
   "cell_type": "markdown",
   "metadata": {},
   "source": [
    "You can see our array has shape 7, (7 entries, one-dimensional) and int64 as data type. Let's see what happens when we create an array from a Python list containing numbers with decimal values."
   ]
  },
  {
   "cell_type": "code",
   "execution_count": 5,
   "metadata": {},
   "outputs": [
    {
     "data": {
      "text/plain": [
       "array([ 1.7 ,  4.8 ,  5.5 , 52.7 , 11.3 , 14.63])"
      ]
     },
     "execution_count": 5,
     "metadata": {},
     "output_type": "execute_result"
    }
   ],
   "source": [
    "numbers = [1.7, 4.8, 5.5, 52.7, 11.3, 14.63]\n",
    "arr = np.array(numbers)\n",
    "arr"
   ]
  },
  {
   "cell_type": "code",
   "execution_count": 6,
   "metadata": {},
   "outputs": [
    {
     "data": {
      "text/plain": [
       "(6,)"
      ]
     },
     "execution_count": 6,
     "metadata": {},
     "output_type": "execute_result"
    }
   ],
   "source": [
    "arr.shape"
   ]
  },
  {
   "cell_type": "code",
   "execution_count": 7,
   "metadata": {},
   "outputs": [
    {
     "data": {
      "text/plain": [
       "dtype('float64')"
      ]
     },
     "execution_count": 7,
     "metadata": {},
     "output_type": "execute_result"
    }
   ],
   "source": [
    "arr.dtype"
   ]
  },
  {
   "cell_type": "markdown",
   "metadata": {},
   "source": [
    "Now the array's dtype is float64. NumPy does a great job at inferring the data type our array is going to have, but you can specify it on creation using the *dtype* argument. We can ask NumPy, for example, to treat the values as integers, discarding the decimal part:"
   ]
  },
  {
   "cell_type": "code",
   "execution_count": 8,
   "metadata": {},
   "outputs": [
    {
     "data": {
      "text/plain": [
       "array([ 1,  4,  5, 52, 11, 14])"
      ]
     },
     "execution_count": 8,
     "metadata": {},
     "output_type": "execute_result"
    }
   ],
   "source": [
    "numbers = [1.7, 4.8, 5.5, 52.7, 11.3, 14.63]\n",
    "arr = np.array(numbers, dtype=np.int64) # NumPy also supports, among many others, int32\n",
    "arr"
   ]
  },
  {
   "cell_type": "markdown",
   "metadata": {},
   "source": [
    "You can, of course, use type casting after an array has been created. For this, use the *astype* method."
   ]
  },
  {
   "cell_type": "code",
   "execution_count": 9,
   "metadata": {},
   "outputs": [
    {
     "data": {
      "text/plain": [
       "array([1, 2, 3, 4, 7])"
      ]
     },
     "execution_count": 9,
     "metadata": {},
     "output_type": "execute_result"
    }
   ],
   "source": [
    "floatarr = np.array([1.1, 2.3, 3.5, 4,7])\n",
    "intarr = floatarr.astype(np.int64)\n",
    "intarr"
   ]
  },
  {
   "cell_type": "markdown",
   "metadata": {},
   "source": [
    "Another important detail to remember is that lists with other lists nested inside them will lead to the creation of multi-dimensional arrays. For example, a list like the following produces a 3x3 ndarray"
   ]
  },
  {
   "cell_type": "code",
   "execution_count": 10,
   "metadata": {},
   "outputs": [
    {
     "data": {
      "text/plain": [
       "array([[1, 2, 3],\n",
       "       [4, 5, 6],\n",
       "       [7, 8, 9]])"
      ]
     },
     "execution_count": 10,
     "metadata": {},
     "output_type": "execute_result"
    }
   ],
   "source": [
    "matrixlist = [[1,2,3],[4,5,6,],[7,8,9]]\n",
    "arr = np.array(matrixlist)\n",
    "arr"
   ]
  },
  {
   "cell_type": "code",
   "execution_count": 11,
   "metadata": {},
   "outputs": [
    {
     "data": {
      "text/plain": [
       "(3, 3)"
      ]
     },
     "execution_count": 11,
     "metadata": {},
     "output_type": "execute_result"
    }
   ],
   "source": [
    "arr.shape"
   ]
  },
  {
   "cell_type": "markdown",
   "metadata": {},
   "source": [
    "Ok, that's enough for now with creation from sequence-like objects. Let's see some other built-in array creation utilities"
   ]
  },
  {
   "cell_type": "markdown",
   "metadata": {},
   "source": [
    "### Creating arrays full of zeros"
   ]
  },
  {
   "cell_type": "markdown",
   "metadata": {},
   "source": [
    "*np.zeros* is a function that receives as input a shape tuple and creates an array with that shape and every single entry set to 0."
   ]
  },
  {
   "cell_type": "code",
   "execution_count": 12,
   "metadata": {},
   "outputs": [
    {
     "data": {
      "text/plain": [
       "array([0., 0., 0., 0., 0., 0., 0., 0.])"
      ]
     },
     "execution_count": 12,
     "metadata": {},
     "output_type": "execute_result"
    }
   ],
   "source": [
    "# This creates a 1-dimensional array of zeros with 8 entries\n",
    "zarr = np.zeros(8)\n",
    "zarr"
   ]
  },
  {
   "cell_type": "code",
   "execution_count": 13,
   "metadata": {},
   "outputs": [
    {
     "data": {
      "text/plain": [
       "array([[0., 0., 0., 0., 0.],\n",
       "       [0., 0., 0., 0., 0.],\n",
       "       [0., 0., 0., 0., 0.],\n",
       "       [0., 0., 0., 0., 0.],\n",
       "       [0., 0., 0., 0., 0.]])"
      ]
     },
     "execution_count": 13,
     "metadata": {},
     "output_type": "execute_result"
    }
   ],
   "source": [
    "# This creates a 5x5 matrix full of zeros\n",
    "zarr = np.zeros((5,5))\n",
    "zarr"
   ]
  },
  {
   "cell_type": "markdown",
   "metadata": {},
   "source": [
    "### Creating ranges of values\n",
    "\n",
    "*np.arange* is a very handy function that creates an array with all the values in a range."
   ]
  },
  {
   "cell_type": "code",
   "execution_count": 14,
   "metadata": {},
   "outputs": [
    {
     "data": {
      "text/plain": [
       "array([ 0,  1,  2,  3,  4,  5,  6,  7,  8,  9, 10, 11, 12, 13, 14])"
      ]
     },
     "execution_count": 14,
     "metadata": {},
     "output_type": "execute_result"
    }
   ],
   "source": [
    "# This creates an array with entries from 0 to 14\n",
    "rarr = np.arange(15)\n",
    "rarr"
   ]
  },
  {
   "cell_type": "markdown",
   "metadata": {},
   "source": [
    "This is a very good place to introduce the *reshape* method. It grabs a ndarray and creates a new one with the provided dimensions. This can be combined with arange to produce an 8x8 matrix with numbers from 0 to 63"
   ]
  },
  {
   "cell_type": "code",
   "execution_count": 15,
   "metadata": {},
   "outputs": [
    {
     "data": {
      "text/plain": [
       "array([[ 0,  1,  2,  3,  4,  5,  6,  7],\n",
       "       [ 8,  9, 10, 11, 12, 13, 14, 15],\n",
       "       [16, 17, 18, 19, 20, 21, 22, 23],\n",
       "       [24, 25, 26, 27, 28, 29, 30, 31],\n",
       "       [32, 33, 34, 35, 36, 37, 38, 39],\n",
       "       [40, 41, 42, 43, 44, 45, 46, 47],\n",
       "       [48, 49, 50, 51, 52, 53, 54, 55],\n",
       "       [56, 57, 58, 59, 60, 61, 62, 63]])"
      ]
     },
     "execution_count": 15,
     "metadata": {},
     "output_type": "execute_result"
    }
   ],
   "source": [
    "rarr = np.arange(64).reshape(8,8)\n",
    "rarr"
   ]
  },
  {
   "cell_type": "code",
   "execution_count": 16,
   "metadata": {
    "scrolled": true
   },
   "outputs": [
    {
     "data": {
      "text/plain": [
       "(8, 8)"
      ]
     },
     "execution_count": 16,
     "metadata": {},
     "output_type": "execute_result"
    }
   ],
   "source": [
    "rarr.shape"
   ]
  },
  {
   "cell_type": "markdown",
   "metadata": {},
   "source": [
    "## Creating arrays with random values\n",
    "\n",
    "*np.random.randn* is an extremely useful function. It creates an array filled with random data (with standard normal distribution) and, like *np.zeros*, receives a shape tuple as the main argument. "
   ]
  },
  {
   "cell_type": "code",
   "execution_count": 17,
   "metadata": {},
   "outputs": [
    {
     "data": {
      "text/plain": [
       "array([-1.5745314 , -1.00901794, -1.15070662,  1.69227946,  0.30028233])"
      ]
     },
     "execution_count": 17,
     "metadata": {},
     "output_type": "execute_result"
    }
   ],
   "source": [
    "randomarr = np.random.randn(5)\n",
    "randomarr"
   ]
  },
  {
   "cell_type": "code",
   "execution_count": 18,
   "metadata": {},
   "outputs": [
    {
     "data": {
      "text/plain": [
       "array([[-0.96191126,  1.4272083 ,  0.38075726],\n",
       "       [-0.09240098,  0.80662898, -1.04838281],\n",
       "       [-0.58463188,  1.02508633, -0.0234994 ]])"
      ]
     },
     "execution_count": 18,
     "metadata": {},
     "output_type": "execute_result"
    }
   ],
   "source": [
    "randomarr = np.random.randn(3,3)\n",
    "randomarr"
   ]
  },
  {
   "cell_type": "markdown",
   "metadata": {},
   "source": [
    "## This covers most basic scenarios\n",
    "\n",
    "It doesn't seem like much, but we have already covered enough to deal with the most common array creation scenarios on our own. There are other techniques that would probably come in handy in specific situations, but you are now more than ready to start your NumPy journey!\n",
    "\n",
    "In the next article we will begin manipulating data by learning how to perform arithmetic operations with ndarrays.\n",
    "\n",
    "Thanks for reading!"
   ]
  }
 ],
 "metadata": {
  "kernelspec": {
   "display_name": "Python 3",
   "language": "python",
   "name": "python3"
  },
  "language_info": {
   "codemirror_mode": {
    "name": "ipython",
    "version": 3
   },
   "file_extension": ".py",
   "mimetype": "text/x-python",
   "name": "python",
   "nbconvert_exporter": "python",
   "pygments_lexer": "ipython3",
   "version": "3.6.9"
  }
 },
 "nbformat": 4,
 "nbformat_minor": 2
}
