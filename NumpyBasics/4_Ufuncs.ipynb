{
 "cells": [
  {
   "cell_type": "markdown",
   "metadata": {},
   "source": [
    "Universal functions (ufunc) are special NumPy functions that operate on ndarrays in an element-by-element fashion.\n",
    "\n",
    "They represent a vast array of *vectorized* functions that perform much better than iterative implementations and let you write concise code. Most ufuncs achieve this by providing a Python wrapper around a C implementation.\n",
    "\n",
    "In this article, we will learn about some of these functions and a related topic called array-oriented programming\n",
    "\n",
    "Let's get started!\n",
    "\n",
    "## It's about speed and clarity\n",
    "\n",
    "Before exploring some of the functions you'll probably use most often, let's run a quick comparison between a universal function and an equivalent iterative implementation.\n",
    "\n",
    "We will perform the square operation on every entry in a numpy array using both a universal function and an iterative implementation. We will time the results using the %timeit function in a Jupyter notebook."
   ]
  },
  {
   "cell_type": "code",
   "execution_count": 1,
   "metadata": {},
   "outputs": [],
   "source": [
    "import numpy as np\n",
    "arr = np.arange(100000000)"
   ]
  },
  {
   "cell_type": "code",
   "execution_count": 2,
   "metadata": {},
   "outputs": [
    {
     "name": "stdout",
     "output_type": "stream",
     "text": [
      "CPU times: user 129 ms, sys: 200 ms, total: 329 ms\n",
      "Wall time: 328 ms\n"
     ]
    }
   ],
   "source": [
    "%%time\n",
    "squares_1 = np.square(arr)"
   ]
  },
  {
   "cell_type": "code",
   "execution_count": 3,
   "metadata": {},
   "outputs": [
    {
     "name": "stdout",
     "output_type": "stream",
     "text": [
      "CPU times: user 32.7 s, sys: 133 ms, total: 32.8 s\n",
      "Wall time: 32.8 s\n"
     ]
    }
   ],
   "source": [
    "%%time\n",
    "squares_2 = np.empty(len(arr), dtype=np.int64)\n",
    "for i in range(len(arr)):\n",
    "    squares_2[i] = arr[i] ** 2"
   ]
  },
  {
   "cell_type": "markdown",
   "metadata": {},
   "source": [
    "Wow, that's about 100 times faster for the universal function case. Not only that, but the code is also much more straightforward and easy to understand.\n",
    "\n",
    "Good, now that we know they are really cool things, let's explore some universal functions:"
   ]
  },
  {
   "cell_type": "code",
   "execution_count": 4,
   "metadata": {},
   "outputs": [
    {
     "name": "stdout",
     "output_type": "stream",
     "text": [
      "[ 0  2  4  6  8 10 12 14 16 18]\n",
      "[ 1  3  5  7  9 11 13 15 17 19]\n"
     ]
    }
   ],
   "source": [
    "# We will use the following arrays for the examples\n",
    "even = np.arange(0,20,2)\n",
    "odd = np.arange(1,20,2)\n",
    "\n",
    "print(even)\n",
    "print(odd)"
   ]
  },
  {
   "cell_type": "code",
   "execution_count": 5,
   "metadata": {},
   "outputs": [
    {
     "name": "stdout",
     "output_type": "stream",
     "text": [
      "[ 1  5  9 13 17 21 25 29 33 37]\n"
     ]
    }
   ],
   "source": [
    "# add performs element addition element-wise\n",
    "result = np.add(even, odd)\n",
    "print(result)"
   ]
  },
  {
   "cell_type": "code",
   "execution_count": 6,
   "metadata": {},
   "outputs": [
    {
     "name": "stdout",
     "output_type": "stream",
     "text": [
      "[-1 -1 -1 -1 -1 -1 -1 -1 -1 -1]\n"
     ]
    }
   ],
   "source": [
    "# subtract performs element-wise subtraction\n",
    "result = np.subtract(even, odd)\n",
    "print(result)"
   ]
  },
  {
   "cell_type": "code",
   "execution_count": 7,
   "metadata": {},
   "outputs": [
    {
     "name": "stdout",
     "output_type": "stream",
     "text": [
      "[  0   6  20  42  72 110 156 210 272 342]\n"
     ]
    }
   ],
   "source": [
    "# multiply performs element-wise multiplication\n",
    "result = np.multiply(odd, even)\n",
    "print(result)"
   ]
  },
  {
   "cell_type": "code",
   "execution_count": 8,
   "metadata": {},
   "outputs": [
    {
     "name": "stdout",
     "output_type": "stream",
     "text": [
      "[0.         0.66666667 0.8        0.85714286 0.88888889 0.90909091\n",
      " 0.92307692 0.93333333 0.94117647 0.94736842]\n"
     ]
    }
   ],
   "source": [
    "# divide performs element-wise division (second_argument / first_argument)\n",
    "result = np.divide(even, odd)\n",
    "print(result)"
   ]
  },
  {
   "cell_type": "code",
   "execution_count": 9,
   "metadata": {},
   "outputs": [
    {
     "name": "stdout",
     "output_type": "stream",
     "text": [
      "[ 1  3  5  7  9 11 13 15 17 19]\n"
     ]
    }
   ],
   "source": [
    "# maximum returns an element-wise maximum\n",
    "result = np.maximum(even, odd)\n",
    "print(result)"
   ]
  },
  {
   "cell_type": "code",
   "execution_count": 10,
   "metadata": {},
   "outputs": [
    {
     "name": "stdout",
     "output_type": "stream",
     "text": [
      "[ 0  2  4  6  8 10 12 14 16 18]\n"
     ]
    }
   ],
   "source": [
    "# minimum performs an element-wise minimum\n",
    "result = np.minimum(even, odd)\n",
    "print(result)"
   ]
  },
  {
   "cell_type": "code",
   "execution_count": 11,
   "metadata": {},
   "outputs": [
    {
     "name": "stdout",
     "output_type": "stream",
     "text": [
      "[False False False False False False False False False False]\n"
     ]
    }
   ],
   "source": [
    "# greater returns true if the values in the first argument are higher than the ones on the second\n",
    "# there is also a greater_equal that performs this operation as a >=\n",
    "result = np.greater(even, odd)\n",
    "print(result)"
   ]
  },
  {
   "cell_type": "code",
   "execution_count": 12,
   "metadata": {},
   "outputs": [
    {
     "name": "stdout",
     "output_type": "stream",
     "text": [
      "[ True  True  True  True  True  True  True  True  True  True]\n"
     ]
    }
   ],
   "source": [
    "# less returns true if the values in the first argument are lower than the ones on the second\n",
    "# there is also a lessequal that performs this operation as a <=\n",
    "result = np.less(even, odd)\n",
    "print(result)"
   ]
  },
  {
   "cell_type": "code",
   "execution_count": 13,
   "metadata": {},
   "outputs": [
    {
     "name": "stdout",
     "output_type": "stream",
     "text": [
      "[ 0.          0.90929743 -0.7568025  -0.2794155   0.98935825 -0.54402111\n",
      " -0.53657292  0.99060736 -0.28790332 -0.75098725]\n"
     ]
    }
   ],
   "source": [
    "# sin calculates the trigonometric sine element-wise\n",
    "result = np.sin(even)\n",
    "print(result)"
   ]
  },
  {
   "cell_type": "code",
   "execution_count": 14,
   "metadata": {},
   "outputs": [
    {
     "name": "stdout",
     "output_type": "stream",
     "text": [
      "[0.         1.41421356 2.         2.44948974 2.82842712 3.16227766\n",
      " 3.46410162 3.74165739 4.         4.24264069]\n"
     ]
    }
   ],
   "source": [
    "# sqrt calculates the non-negative square-root of an array element-wise.\n",
    "result = np.sqrt(even)\n",
    "print(result)"
   ]
  },
  {
   "cell_type": "code",
   "execution_count": 15,
   "metadata": {},
   "outputs": [
    {
     "name": "stdout",
     "output_type": "stream",
     "text": [
      "[0.         1.25992105 1.58740105 1.81712059 2.         2.15443469\n",
      " 2.28942849 2.41014226 2.5198421  2.62074139]\n"
     ]
    }
   ],
   "source": [
    "# cbrt calculates the cube-root of an array element-wise.\n",
    "result = np.cbrt(even)\n",
    "print(result)"
   ]
  },
  {
   "cell_type": "code",
   "execution_count": 16,
   "metadata": {},
   "outputs": [
    {
     "name": "stdout",
     "output_type": "stream",
     "text": [
      "[0.         1.09861229 1.60943791 1.94591015 2.19722458 2.39789527\n",
      " 2.56494936 2.7080502  2.83321334 2.94443898]\n"
     ]
    }
   ],
   "source": [
    "# log calculates the natural logarithm element-wise\n",
    "result = np.log(odd)\n",
    "print(result)"
   ]
  },
  {
   "cell_type": "code",
   "execution_count": 17,
   "metadata": {},
   "outputs": [
    {
     "name": "stdout",
     "output_type": "stream",
     "text": [
      "[0.         1.5849625  2.32192809 2.80735492 3.169925   3.45943162\n",
      " 3.70043972 3.9068906  4.08746284 4.24792751]\n"
     ]
    }
   ],
   "source": [
    "# log2 calculates the base 2 logarithm element-wise\n",
    "result = np.log2(odd)\n",
    "print(result)"
   ]
  },
  {
   "cell_type": "markdown",
   "metadata": {},
   "source": [
    "## Array-oriented programming\n",
    "\n",
    "Array oriented programming is the practice of replacing loops for vectorized operations. NumPy has by default a huge amount of functions you can use to express solutions without having to write loops. This lets you solve problems using an intuitive syntax that other programmers and scientists will have a much easier time understanding.\n",
    "\n",
    "As an example, imagine the following problem: You have two matrices, each one representing a side from a collection of 9 right triangles. You are asked with calculating a third matrix where each entry is the value for the hypotenuse of those 9 triangles."
   ]
  },
  {
   "cell_type": "code",
   "execution_count": 18,
   "metadata": {},
   "outputs": [
    {
     "name": "stdout",
     "output_type": "stream",
     "text": [
      "[[5 6 9]\n",
      " [8 1 4]\n",
      " [2 8 6]]\n",
      "[[5 9 6]\n",
      " [5 2 8]\n",
      " [4 6 9]]\n"
     ]
    }
   ],
   "source": [
    "sides_a = np.random.randint(low=1, high=10, size=9).reshape(3,3)\n",
    "sides_b = np.random.randint(low=1, high=10, size=9).reshape(3,3)\n",
    "\n",
    "print(sides_a)\n",
    "print(sides_b)"
   ]
  },
  {
   "cell_type": "code",
   "execution_count": 19,
   "metadata": {},
   "outputs": [
    {
     "name": "stdout",
     "output_type": "stream",
     "text": [
      "[[ 7.07106781 10.81665383 10.81665383]\n",
      " [ 9.43398113  2.23606798  8.94427191]\n",
      " [ 4.47213595 10.         10.81665383]]\n"
     ]
    }
   ],
   "source": [
    "# we can express the solution in a single line using intuitive syntax\n",
    "hypotenuse = np.sqrt(sides_a**2 + sides_b**2)\n",
    "print(hypotenuse)"
   ]
  },
  {
   "cell_type": "markdown",
   "metadata": {},
   "source": [
    "Easy, right?\n",
    "\n",
    "With some practice, you will be able to create incredibly intuitive code for solving numerical problems using NumPy. It's not only more efficient than loop-based solutions, but it's also much easier to read and understand!\n",
    "\n",
    "## The fun is not over yet\n",
    "\n",
    "We explored just a very small subset of the functionality you can get from ufuncs, if you want to know what other things you can get done using them [check the official documentation](https://numpy.org/doc/stable/reference/ufuncs.html).\n",
    "\n",
    "Now you are entering the realm of advanced NumPy, and the type of problems you can solve is now much bigger. In the next week, we will take a look at reductions (also known as aggregations), a set of very useful functions for statistical analysis.\n",
    "\n",
    "Thank you for reading!"
   ]
  }
 ],
 "metadata": {
  "kernelspec": {
   "display_name": "Python 3",
   "language": "python",
   "name": "python3"
  },
  "language_info": {
   "codemirror_mode": {
    "name": "ipython",
    "version": 3
   },
   "file_extension": ".py",
   "mimetype": "text/x-python",
   "name": "python",
   "nbconvert_exporter": "python",
   "pygments_lexer": "ipython3",
   "version": "3.6.9"
  }
 },
 "nbformat": 4,
 "nbformat_minor": 2
}
