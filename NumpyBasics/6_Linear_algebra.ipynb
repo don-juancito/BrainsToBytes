{
 "cells": [
  {
   "cell_type": "markdown",
   "metadata": {},
   "source": [
    "Linear algebra has many useful applications in science and engineering. If you are doing scientific computing, it's very likely that sooner or later you will need to use linear algebra to solve problems.\n",
    "\n",
    "If your linear algebra is a bit rusty, you can take a look at Khan Academy's linear algebra path, it's free and it does a great job at explaining the concepts:\n",
    "\n",
    "* [Linear Algebra](https://khanacademy.org/math/linear-algebra)\n",
    "\n",
    "NumPy has a series of very useful linear algebra utilities you can leverage to your advantage, and in this article, we will take a look at some of them.\n",
    "\n",
    "Before starting, we will create a couple of matrices and vectors to use in the examples."
   ]
  },
  {
   "cell_type": "code",
   "execution_count": 1,
   "metadata": {},
   "outputs": [
    {
     "name": "stdout",
     "output_type": "stream",
     "text": [
      "[ 8  9 -3 -7]\n",
      "[ 1  8 -4  8]\n"
     ]
    }
   ],
   "source": [
    "import numpy as np\n",
    "\n",
    "# Let's create 2 vectors with values from -10 to 10, 4 entries each\n",
    "vector_a = np.random.randint(-10, 10, 4)\n",
    "vector_b = np.random.randint(-10, 10, 4)\n",
    "\n",
    "print(vector_a)\n",
    "print(vector_b)"
   ]
  },
  {
   "cell_type": "code",
   "execution_count": 2,
   "metadata": {},
   "outputs": [
    {
     "name": "stdout",
     "output_type": "stream",
     "text": [
      "[[ -3   5   8]\n",
      " [  6  -8  -5]\n",
      " [  2   5 -10]]\n",
      "[[-8 -2 -1]\n",
      " [-1  7 -6]\n",
      " [-3  8  0]]\n"
     ]
    }
   ],
   "source": [
    "# Let's also create two 3x3 matrices with random values\n",
    "matrix_a = np.random.randint(-10, 10, 9).reshape(3, 3)\n",
    "matrix_b = np.random.randint(-10, 10, 9).reshape(3, 3)\n",
    "\n",
    "print(matrix_a)\n",
    "print(matrix_b)"
   ]
  },
  {
   "cell_type": "markdown",
   "metadata": {},
   "source": [
    "Ok, let's get started, first we will play a bit with the two vectors and then move to the matrices."
   ]
  },
  {
   "cell_type": "code",
   "execution_count": 3,
   "metadata": {},
   "outputs": [
    {
     "name": "stdout",
     "output_type": "stream",
     "text": [
      "36\n"
     ]
    }
   ],
   "source": [
    "# You can calculate the dot product of two vectors using the .dot function (or the .inner function)\n",
    "result = np.dot(vector_a, vector_b)\n",
    "print(result)"
   ]
  },
  {
   "cell_type": "code",
   "execution_count": 4,
   "metadata": {},
   "outputs": [
    {
     "name": "stdout",
     "output_type": "stream",
     "text": [
      "14.247806848775006\n"
     ]
    }
   ],
   "source": [
    "# You can also calculate the norm of a vector\n",
    "result = np.linalg.norm(vector_a)\n",
    "print(result)"
   ]
  },
  {
   "cell_type": "code",
   "execution_count": 5,
   "metadata": {},
   "outputs": [
    {
     "name": "stdout",
     "output_type": "stream",
     "text": [
      "[[  8  64 -32  64]\n",
      " [  9  72 -36  72]\n",
      " [ -3 -24  12 -24]\n",
      " [ -7 -56  28 -56]]\n"
     ]
    }
   ],
   "source": [
    "# You can also calculate the outer product of two vectors\n",
    "result = np.outer(vector_a, vector_b)\n",
    "print(result)"
   ]
  },
  {
   "cell_type": "markdown",
   "metadata": {},
   "source": [
    "### Matrices"
   ]
  },
  {
   "cell_type": "code",
   "execution_count": 6,
   "metadata": {},
   "outputs": [
    {
     "name": "stdout",
     "output_type": "stream",
     "text": [
      "[[  6 -10  49]\n",
      " [-27 -32 -82]\n",
      " [-16  93  34]]\n"
     ]
    }
   ],
   "source": [
    "# You can calculate the inner product of two matrices\n",
    "result = np.inner(matrix_a, matrix_b)\n",
    "print(result)"
   ]
  },
  {
   "cell_type": "code",
   "execution_count": 7,
   "metadata": {},
   "outputs": [
    {
     "name": "stdout",
     "output_type": "stream",
     "text": [
      "[[ 24   6   3   3 -21  18   9 -24   0]\n",
      " [-40 -10  -5  -5  35 -30 -15  40   0]\n",
      " [-64 -16  -8  -8  56 -48 -24  64   0]\n",
      " [-48 -12  -6  -6  42 -36 -18  48   0]\n",
      " [ 64  16   8   8 -56  48  24 -64   0]\n",
      " [ 40  10   5   5 -35  30  15 -40   0]\n",
      " [-16  -4  -2  -2  14 -12  -6  16   0]\n",
      " [-40 -10  -5  -5  35 -30 -15  40   0]\n",
      " [ 80  20  10  10 -70  60  30 -80   0]]\n"
     ]
    }
   ],
   "source": [
    "# And also the outer product\n",
    "result = np.outer(matrix_a, matrix_b)\n",
    "print(result)"
   ]
  },
  {
   "cell_type": "code",
   "execution_count": 8,
   "metadata": {},
   "outputs": [
    {
     "name": "stdout",
     "output_type": "stream",
     "text": [
      "[[  -5  105  -27]\n",
      " [ -25 -108   42]\n",
      " [   9  -49  -32]]\n"
     ]
    }
   ],
   "source": [
    "# You can perform typical matrix product using matmul\n",
    "result = np.matmul(matrix_a, matrix_b)\n",
    "print(result)"
   ]
  },
  {
   "cell_type": "code",
   "execution_count": 9,
   "metadata": {},
   "outputs": [
    {
     "name": "stdout",
     "output_type": "stream",
     "text": [
      "18.76166303929372\n"
     ]
    }
   ],
   "source": [
    "# As with vectors, you can calculate the norm of the matrix using .norm\n",
    "result = np.linalg.norm(matrix_a)\n",
    "print(result)"
   ]
  },
  {
   "cell_type": "code",
   "execution_count": 10,
   "metadata": {
    "scrolled": true
   },
   "outputs": [
    {
     "name": "stdout",
     "output_type": "stream",
     "text": [
      "[[ -513  -250  1805]\n",
      " [  918  -242 -2333]\n",
      " [ -310  1115  -478]]\n"
     ]
    }
   ],
   "source": [
    "# You can raise a matrix to the power of n with linalg.matrix_power\n",
    "result = np.linalg.matrix_power(matrix_a, 3)\n",
    "print(result)"
   ]
  },
  {
   "cell_type": "code",
   "execution_count": 11,
   "metadata": {},
   "outputs": [
    {
     "name": "stdout",
     "output_type": "stream",
     "text": [
      "[  1.92755345+0.j         -11.46377672+5.07699792j\n",
      " -11.46377672-5.07699792j]\n",
      "[[-0.87532836+0.j         -0.46537447+0.18724549j -0.46537447-0.18724549j]\n",
      " [-0.37577112+0.j          0.70724201+0.j          0.70724201-0.j        ]\n",
      " [-0.30429646+0.j         -0.06850368-0.49343866j -0.06850368+0.49343866j]]\n"
     ]
    }
   ],
   "source": [
    "# If your matrix is a square matrix, you can compute the eigenvalues and right eigenvectors with linalg.eig(a)\n",
    "# There is a version called eigvals that operates over a general matrix\n",
    "w,v = np.linalg.eig(matrix_a)\n",
    "print(w)\n",
    "print(v)"
   ]
  },
  {
   "cell_type": "code",
   "execution_count": 12,
   "metadata": {},
   "outputs": [
    {
     "name": "stdout",
     "output_type": "stream",
     "text": [
      "303.00000000000017\n"
     ]
    }
   ],
   "source": [
    "# You can calculate the determinant using .linalg.det\n",
    "result = np.linalg.det(matrix_a)\n",
    "print(result)"
   ]
  },
  {
   "cell_type": "code",
   "execution_count": 13,
   "metadata": {},
   "outputs": [
    {
     "name": "stdout",
     "output_type": "stream",
     "text": [
      "3\n"
     ]
    }
   ],
   "source": [
    "# And calculate the rank of the matrix using linalg.matrix_rank\n",
    "result = np.linalg.matrix_rank(matrix_a)\n",
    "print(result)"
   ]
  },
  {
   "cell_type": "code",
   "execution_count": 14,
   "metadata": {},
   "outputs": [
    {
     "name": "stdout",
     "output_type": "stream",
     "text": [
      "-21\n"
     ]
    }
   ],
   "source": [
    "# You can also calculate the trace (sum along diagonals)\n",
    "result = np.trace(matrix_a)\n",
    "print(result)"
   ]
  },
  {
   "cell_type": "code",
   "execution_count": 15,
   "metadata": {},
   "outputs": [
    {
     "name": "stdout",
     "output_type": "stream",
     "text": [
      "[[-24.  20.  -5.]\n",
      " [ 18. -15.   4.]\n",
      " [  5.  -4.   1.]]\n"
     ]
    }
   ],
   "source": [
    "# And calculate the inverse of the matrix using linalg.inv\n",
    "matrix_to_invert = np.array([[1,0,5],[2,1,6],[3,4,0]])\n",
    "inverse = np.linalg.inv(matrix_to_invert)\n",
    "print(inverse)"
   ]
  },
  {
   "cell_type": "code",
   "execution_count": 16,
   "metadata": {},
   "outputs": [
    {
     "name": "stdout",
     "output_type": "stream",
     "text": [
      "[[1 0 0]\n",
      " [0 1 0]\n",
      " [0 0 1]]\n"
     ]
    }
   ],
   "source": [
    "# Let's see if it's correct by verifying A*inv(A) = I\n",
    "result = np.matmul(matrix_to_invert, inverse).astype(np.int64)\n",
    "print(result)"
   ]
  },
  {
   "cell_type": "code",
   "execution_count": 17,
   "metadata": {},
   "outputs": [
    {
     "name": "stdout",
     "output_type": "stream",
     "text": [
      "[-5.  4.  0.]\n"
     ]
    }
   ],
   "source": [
    "# There are also different methods for solving matrix equations, the simplest is linalg.solve(a,b)\n",
    "# Which solves the equation ax=b\n",
    "\n",
    "a = np.array([[2,3,-1],\n",
    "              [1,2,1],\n",
    "              [-1,-1,3]])\n",
    "\n",
    "b = np.array([2,3,1])\n",
    "\n",
    "x = np.linalg.solve(a, b)\n",
    "\n",
    "print(x)"
   ]
  },
  {
   "cell_type": "code",
   "execution_count": 18,
   "metadata": {
    "scrolled": true
   },
   "outputs": [
    {
     "name": "stdout",
     "output_type": "stream",
     "text": [
      "[2. 3. 1.]\n"
     ]
    }
   ],
   "source": [
    "# We can verify the result is ok by multiplying a*x, and checking that the result equals b\n",
    "result = np.matmul(a,x)\n",
    "print(result)"
   ]
  },
  {
   "cell_type": "code",
   "execution_count": 19,
   "metadata": {},
   "outputs": [
    {
     "name": "stdout",
     "output_type": "stream",
     "text": [
      "[ 8  9 -3 -7]\n",
      "[[ -3   6   2]\n",
      " [  5  -8   5]\n",
      " [  8  -5 -10]]\n"
     ]
    }
   ],
   "source": [
    "# Finally, you can access the transpose of both matrices and vectors with the .T attribute\n",
    "print(vector_a.T)\n",
    "print(matrix_a.T)"
   ]
  },
  {
   "cell_type": "markdown",
   "metadata": {},
   "source": [
    "## I think that's all for now\n",
    "\n",
    "We just used some of the most common functions of the linalg module, but there are many other cool things you can do with them. I recommend you take a look at the available decompositions, as they might come in handy in the future.\n",
    "\n",
    "If you want a complete list of the things you can do with the linalg module, check this link:\n",
    "\n",
    "* [NumPy Linear Algebra](https://numpy.org/doc/stable/reference/routines.linalg.html)\n",
    "\n",
    "And with this, we conclude Hands-on NumPy. This series was by no means a comprehensive take on NumPy, but I hope it gave you a basic idea of what can be done with it. We just explored some of the most common functionality, but there are lots of other cool things already implemented. \n",
    "\n",
    "So, what are you waiting for? Go and write solutions to your problems, a bit of documentation and a lot of curiosity can help you achieve anything.\n",
    "\n",
    "Thank you for reading!"
   ]
  }
 ],
 "metadata": {
  "kernelspec": {
   "display_name": "Python 3",
   "language": "python",
   "name": "python3"
  },
  "language_info": {
   "codemirror_mode": {
    "name": "ipython",
    "version": 3
   },
   "file_extension": ".py",
   "mimetype": "text/x-python",
   "name": "python",
   "nbconvert_exporter": "python",
   "pygments_lexer": "ipython3",
   "version": "3.6.9"
  }
 },
 "nbformat": 4,
 "nbformat_minor": 2
}
