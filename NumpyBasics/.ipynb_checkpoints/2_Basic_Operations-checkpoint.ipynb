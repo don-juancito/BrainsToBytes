{
 "cells": [
  {
   "cell_type": "markdown",
   "metadata": {},
   "source": [
    "In the last article, we learned many different ways in which we can create ndarrays. Now that we know how to create NumPy arrays it's time to start playing around with them.\n",
    "\n",
    "We will learn to perform basic operations, a task you can divide into 3 categories:\n",
    "\n",
    "* Operations between arrays of the same size.\n",
    "* Operations between an array and a scalar.\n",
    "* Operations between arrays of different sizes.\n",
    "\n",
    "The third scenario is known as *broadcasting*, and we won't deal with it in this article, instead, we will focus on the first two.\n",
    "\n",
    "Great, let's get started.\n",
    "\n",
    "## Operations using ndarrays of the same size\n",
    "\n",
    "Operations between arrays of the same size are applied in an element-wise fashion. We will create two arrays and see how subtraction, addition, multiplication, and division work."
   ]
  },
  {
   "cell_type": "code",
   "execution_count": 1,
   "metadata": {},
   "outputs": [],
   "source": [
    "import numpy as np\n",
    "arr_1 = np.array([1, 2, 3, 4, 5])\n",
    "arr_2 = np.array([20, 30, 40, 50, 60])"
   ]
  },
  {
   "cell_type": "code",
   "execution_count": 2,
   "metadata": {},
   "outputs": [
    {
     "name": "stdout",
     "output_type": "stream",
     "text": [
      "[21 32 43 54 65]\n"
     ]
    }
   ],
   "source": [
    "# Element-wise sum of two arrays\n",
    "sum_result = arr_1 + arr_2\n",
    "print(sum_result)"
   ]
  },
  {
   "cell_type": "code",
   "execution_count": 3,
   "metadata": {},
   "outputs": [
    {
     "name": "stdout",
     "output_type": "stream",
     "text": [
      "[19 28 37 46 55]\n"
     ]
    }
   ],
   "source": [
    "# Element-wise substraction of two arrays\n",
    "sub_result = arr_2 - arr_1\n",
    "print(sub_result)"
   ]
  },
  {
   "cell_type": "code",
   "execution_count": 4,
   "metadata": {},
   "outputs": [
    {
     "name": "stdout",
     "output_type": "stream",
     "text": [
      "[ 20  60 120 200 300]\n"
     ]
    }
   ],
   "source": [
    "# Element-wise multiplication of two arrays\n",
    "mult_result = arr_1 * arr_2\n",
    "print(mult_result)"
   ]
  },
  {
   "cell_type": "code",
   "execution_count": 5,
   "metadata": {},
   "outputs": [
    {
     "name": "stdout",
     "output_type": "stream",
     "text": [
      "[0.05       0.06666667 0.075      0.08       0.08333333]\n"
     ]
    }
   ],
   "source": [
    "# Element-wise division of two arrays\n",
    "div_result = arr_1 / arr_2\n",
    "print(div_result)"
   ]
  },
  {
   "cell_type": "code",
   "execution_count": 6,
   "metadata": {},
   "outputs": [
    {
     "name": "stdout",
     "output_type": "stream",
     "text": [
      "[       20       900     64000   6250000 777600000]\n"
     ]
    }
   ],
   "source": [
    "# Element-wise power\n",
    "pow_result = arr_2 ** arr_1\n",
    "print(pow_result)"
   ]
  },
  {
   "cell_type": "markdown",
   "metadata": {},
   "source": [
    "You can also perform comparisons between two arrays. The result is a boolean array where every entry is the result of performing an element-wise comparison:"
   ]
  },
  {
   "cell_type": "code",
   "execution_count": 7,
   "metadata": {},
   "outputs": [
    {
     "name": "stdout",
     "output_type": "stream",
     "text": [
      "[False  True False  True]\n"
     ]
    }
   ],
   "source": [
    "arr_1 = np.array([1, 10, 2, 20])\n",
    "arr_2 = np.array([50, 5, 30, 3])\n",
    " \n",
    "# Return True if the elements in the first array are larger than the ones in the second array\n",
    "comparison_result = arr_1 > arr_2\n",
    "print(comparison_result)"
   ]
  },
  {
   "cell_type": "markdown",
   "metadata": {},
   "source": [
    "Now, there are two additional things to note. \n",
    "\n",
    "The first one is that you can chain operations with as many arrays as you want:"
   ]
  },
  {
   "cell_type": "code",
   "execution_count": 8,
   "metadata": {},
   "outputs": [
    {
     "name": "stdout",
     "output_type": "stream",
     "text": [
      "[ 6 15 24]\n"
     ]
    }
   ],
   "source": [
    "arr_1 = np.array([1,4,7])\n",
    "arr_2 = np.array([2,5,8])\n",
    "arr_3 = np.array([3,6,9])\n",
    "\n",
    "sum_result = arr_1 + arr_2 + arr_3\n",
    "print(sum_result)"
   ]
  },
  {
   "cell_type": "markdown",
   "metadata": {},
   "source": [
    "The second one is that you can use the same array several times when defining the operation:"
   ]
  },
  {
   "cell_type": "code",
   "execution_count": 9,
   "metadata": {},
   "outputs": [
    {
     "name": "stdout",
     "output_type": "stream",
     "text": [
      "[ 0 20 90]\n"
     ]
    }
   ],
   "source": [
    "arr = np.array([1, 5, 10])\n",
    "result = arr * arr - arr # This applies the operation x^2 - x to every entry\n",
    "print(result)"
   ]
  },
  {
   "cell_type": "markdown",
   "metadata": {},
   "source": [
    "Good, now let's see what happens when we perform these operations with an array and a scalar.\n",
    "\n",
    "## Operations using ndarrays of the same size¶\n",
    "\n",
    "Operations between an array and a scalar are very intuitive: they are performed over every entry in the array and the scalar, and the result is a boolean array. This is much easier to understand with examples:"
   ]
  },
  {
   "cell_type": "code",
   "execution_count": 10,
   "metadata": {},
   "outputs": [
    {
     "name": "stdout",
     "output_type": "stream",
     "text": [
      "[1 2 3 4 5]\n"
     ]
    }
   ],
   "source": [
    "arr = np.arange(1, 6) # Generate entries from 1 to 5\n",
    "print(arr)"
   ]
  },
  {
   "cell_type": "code",
   "execution_count": 11,
   "metadata": {},
   "outputs": [
    {
     "name": "stdout",
     "output_type": "stream",
     "text": [
      "[11 12 13 14 15]\n"
     ]
    }
   ],
   "source": [
    "# Sum of an array and a scalar\n",
    "sum_result = arr + 10\n",
    "print(sum_result)"
   ]
  },
  {
   "cell_type": "code",
   "execution_count": 12,
   "metadata": {},
   "outputs": [
    {
     "name": "stdout",
     "output_type": "stream",
     "text": [
      "[0 1 2 3 4]\n"
     ]
    }
   ],
   "source": [
    "# Substraction between an array and a scalar\n",
    "sub_result = arr - 1\n",
    "print(sub_result)"
   ]
  },
  {
   "cell_type": "code",
   "execution_count": 13,
   "metadata": {},
   "outputs": [
    {
     "name": "stdout",
     "output_type": "stream",
     "text": [
      "[ 0 -1 -2 -3 -4]\n"
     ]
    }
   ],
   "source": [
    "# Like the rest of the operations, substractions works as you would expect if you invert the order\n",
    "sub_result = 1 - arr\n",
    "print(sub_result)"
   ]
  },
  {
   "cell_type": "code",
   "execution_count": 14,
   "metadata": {},
   "outputs": [
    {
     "name": "stdout",
     "output_type": "stream",
     "text": [
      "[ 5 10 15 20 25]\n"
     ]
    }
   ],
   "source": [
    "# Multiplication between an array and a scalar\n",
    "mult_result = arr * 5\n",
    "print(mult_result)"
   ]
  },
  {
   "cell_type": "code",
   "execution_count": 15,
   "metadata": {},
   "outputs": [
    {
     "name": "stdout",
     "output_type": "stream",
     "text": [
      "[0.5 1.  1.5 2.  2.5]\n"
     ]
    }
   ],
   "source": [
    "# Division between an array and a scalar\n",
    "div_result = arr / 2\n",
    "print(div_result)"
   ]
  },
  {
   "cell_type": "code",
   "execution_count": 16,
   "metadata": {},
   "outputs": [
    {
     "name": "stdout",
     "output_type": "stream",
     "text": [
      "[2.         1.         0.66666667 0.5        0.4       ]\n"
     ]
    }
   ],
   "source": [
    "# Again, the order of the elements is important, just as you would expect\n",
    "div_result = 2 / arr\n",
    "print(div_result)"
   ]
  },
  {
   "cell_type": "markdown",
   "metadata": {},
   "source": [
    "Comparisons between a scalar work as you would expect. The comparison returns a boolean array with the result of evaluating the comparison over every element in the original array."
   ]
  },
  {
   "cell_type": "code",
   "execution_count": 17,
   "metadata": {},
   "outputs": [
    {
     "name": "stdout",
     "output_type": "stream",
     "text": [
      "[False False False  True  True]\n"
     ]
    }
   ],
   "source": [
    "result = arr > 3\n",
    "print(result)"
   ]
  },
  {
   "cell_type": "markdown",
   "metadata": {},
   "source": [
    "## Pretty straightforward, isn't it?\n",
    "\n",
    "One of the best things about NumPy is how consistent and usually obvious it is, and these basic operations are proof of that.\n",
    "\n",
    "Knowing how to perform basic operations is the foundation you need to build more elaborate solutions, and now you got that covered. In the next article, we will learn about an extremely important topic: Indexing and slicing. See you then.\n",
    "\n",
    "Thanks for reading!"
   ]
  }
 ],
 "metadata": {
  "kernelspec": {
   "display_name": "Python 3",
   "language": "python",
   "name": "python3"
  },
  "language_info": {
   "codemirror_mode": {
    "name": "ipython",
    "version": 3
   },
   "file_extension": ".py",
   "mimetype": "text/x-python",
   "name": "python",
   "nbconvert_exporter": "python",
   "pygments_lexer": "ipython3",
   "version": "3.6.9"
  }
 },
 "nbformat": 4,
 "nbformat_minor": 2
}
