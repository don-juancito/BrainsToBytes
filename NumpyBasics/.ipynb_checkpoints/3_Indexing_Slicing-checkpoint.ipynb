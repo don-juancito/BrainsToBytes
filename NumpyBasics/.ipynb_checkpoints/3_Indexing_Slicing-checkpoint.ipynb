{
 "cells": [
  {
   "cell_type": "markdown",
   "metadata": {},
   "source": [
    "NumPy array indexing is a big topic, and there are many different ways of selecting elements from an array. \n",
    "\n",
    "Let's start with the simplest case: selecting an entry from a 1-dimensional array."
   ]
  },
  {
   "cell_type": "code",
   "execution_count": 1,
   "metadata": {},
   "outputs": [
    {
     "name": "stdout",
     "output_type": "stream",
     "text": [
      "[0 1 2 3 4 5 6 7 8 9]\n"
     ]
    }
   ],
   "source": [
    "import numpy as np\n",
    "\n",
    "arr = np.arange(10)\n",
    "print(arr)"
   ]
  },
  {
   "cell_type": "markdown",
   "metadata": {},
   "source": [
    "You can access elements from a 1-dimensional array in NumPy using the same syntax you would use for regular Python lists. Both positive and negative indexing works as you would expect:"
   ]
  },
  {
   "cell_type": "code",
   "execution_count": 2,
   "metadata": {},
   "outputs": [
    {
     "name": "stdout",
     "output_type": "stream",
     "text": [
      "3\n"
     ]
    }
   ],
   "source": [
    "at_index_three = arr[3]\n",
    "print(at_index_three)"
   ]
  },
  {
   "cell_type": "code",
   "execution_count": 3,
   "metadata": {},
   "outputs": [
    {
     "name": "stdout",
     "output_type": "stream",
     "text": [
      "8\n"
     ]
    }
   ],
   "source": [
    "penultimate_element = arr[-2]\n",
    "print(penultimate_element)"
   ]
  },
  {
   "cell_type": "markdown",
   "metadata": {},
   "source": [
    "The syntax for selecting slices also works in a very similar way to regular python. It follows the same pattern:\n",
    "\n",
    "```\n",
    "array[from_this_index_inclusive, to_this_index_exclusive]\n",
    "```\n",
    "\n",
    "For example, by writing ```arr[2:6]``` you are saying something like *select from **arr** all the elements from the entry at index 2 (inclusive) until the entry at index 6 (exclusive)*."
   ]
  },
  {
   "cell_type": "code",
   "execution_count": 4,
   "metadata": {},
   "outputs": [
    {
     "name": "stdout",
     "output_type": "stream",
     "text": [
      "[2 3 4 5]\n"
     ]
    }
   ],
   "source": [
    "subsect = arr[2:6]\n",
    "print(subsect)"
   ]
  },
  {
   "cell_type": "markdown",
   "metadata": {},
   "source": [
    "If you omit the second element of the slice selection it will grab everything until the end of the array. If you omit the first one, you will get everything from the beginning until the specified index."
   ]
  },
  {
   "cell_type": "code",
   "execution_count": 5,
   "metadata": {},
   "outputs": [
    {
     "name": "stdout",
     "output_type": "stream",
     "text": [
      "[2 3 4 5 6 7 8 9]\n"
     ]
    }
   ],
   "source": [
    "from_index_two_until_end = arr[2:] # Selects from index two until the end of the array\n",
    "print(from_index_two_until_end)"
   ]
  },
  {
   "cell_type": "code",
   "execution_count": 6,
   "metadata": {},
   "outputs": [
    {
     "name": "stdout",
     "output_type": "stream",
     "text": [
      "[0 1 2 3 4]\n"
     ]
    }
   ],
   "source": [
    "until_index_five = arr[:5] # Selects from the beginning until index 5 (exclusive)\n",
    "print(until_index_five)"
   ]
  },
  {
   "cell_type": "markdown",
   "metadata": {},
   "source": [
    "There is an important difference between ndarray slices and regular Python slices that is worth mentioning: They don't copy data, instead, they return a *view* to the original array. This means that any changes you make to a variable referencing the slice will be reflected in the original array."
   ]
  },
  {
   "cell_type": "code",
   "execution_count": 7,
   "metadata": {},
   "outputs": [
    {
     "name": "stdout",
     "output_type": "stream",
     "text": [
      "[2 3 4 5]\n"
     ]
    }
   ],
   "source": [
    "slice_ref = arr[2:6]\n",
    "print(slice_ref)"
   ]
  },
  {
   "cell_type": "code",
   "execution_count": 8,
   "metadata": {},
   "outputs": [
    {
     "name": "stdout",
     "output_type": "stream",
     "text": [
      "[   0    1    2    3 7171    5    6    7    8    9]\n"
     ]
    }
   ],
   "source": [
    "# The changes made on slice_ref will be reflected on arr\n",
    "slice_ref[2] = 7171 # Index 2 of slice_ref points to index 4 of arr\n",
    "print(arr)"
   ]
  },
  {
   "cell_type": "markdown",
   "metadata": {},
   "source": [
    "## Multi-dimensional arrays"
   ]
  },
  {
   "cell_type": "markdown",
   "metadata": {},
   "source": [
    "For arrays with dimensions higher than one you just need to provide one index per dimension to access individual entries.\n"
   ]
  },
  {
   "cell_type": "code",
   "execution_count": 9,
   "metadata": {},
   "outputs": [
    {
     "name": "stdout",
     "output_type": "stream",
     "text": [
      "[[ 0  1  2  3]\n",
      " [ 4  5  6  7]\n",
      " [ 8  9 10 11]\n",
      " [12 13 14 15]]\n"
     ]
    }
   ],
   "source": [
    "darr = np.arange(16).reshape(4,4)\n",
    "print(darr)"
   ]
  },
  {
   "cell_type": "code",
   "execution_count": 10,
   "metadata": {},
   "outputs": [
    {
     "name": "stdout",
     "output_type": "stream",
     "text": [
      "9\n"
     ]
    }
   ],
   "source": [
    "# Select the element on the third row, second column (remember they are all 0-indexed)\n",
    "element = darr[2,1]\n",
    "print(element)"
   ]
  },
  {
   "cell_type": "code",
   "execution_count": 11,
   "metadata": {},
   "outputs": [
    {
     "name": "stdout",
     "output_type": "stream",
     "text": [
      "9\n"
     ]
    }
   ],
   "source": [
    "# You can also use this syntax to accomplish the same\n",
    "element = darr[2][1]\n",
    "print(element)"
   ]
  },
  {
   "cell_type": "markdown",
   "metadata": {},
   "source": [
    "If you don't provide an index for an array with dimensions higher than 1 it will select all the contents of that entry. For example, if you provide only 1 index when selecting from a 2-dimensional array you will get a complete row:"
   ]
  },
  {
   "cell_type": "code",
   "execution_count": 12,
   "metadata": {},
   "outputs": [
    {
     "name": "stdout",
     "output_type": "stream",
     "text": [
      "[12 13 14 15]\n"
     ]
    }
   ],
   "source": [
    "row = darr[-1] # Get the last row\n",
    "print(row)"
   ]
  },
  {
   "cell_type": "markdown",
   "metadata": {},
   "source": [
    "Slicing works in a very similar way to the 1-dimensional case, the only difference is that now you can provide extra selection ranges. This is much easier to understand with examples, so let's take a look at some of the things you can do."
   ]
  },
  {
   "cell_type": "code",
   "execution_count": 13,
   "metadata": {},
   "outputs": [
    {
     "name": "stdout",
     "output_type": "stream",
     "text": [
      "[[0 1 2 3]\n",
      " [4 5 6 7]]\n"
     ]
    }
   ],
   "source": [
    "# Select the first two rows\n",
    "ddslice = darr[:2]\n",
    "print(ddslice)"
   ]
  },
  {
   "cell_type": "code",
   "execution_count": 14,
   "metadata": {},
   "outputs": [
    {
     "name": "stdout",
     "output_type": "stream",
     "text": [
      "[2 6]\n"
     ]
    }
   ],
   "source": [
    "# Select the third element of the first two rows\n",
    "ddslice2 = darr[:2, 2]\n",
    "print(ddslice2)"
   ]
  },
  {
   "cell_type": "code",
   "execution_count": 15,
   "metadata": {},
   "outputs": [
    {
     "name": "stdout",
     "output_type": "stream",
     "text": [
      "[[0 1]\n",
      " [4 5]\n",
      " [8 9]]\n"
     ]
    }
   ],
   "source": [
    "# Select the first three rows and the first two elements of each\n",
    "ddslice3 = darr[:3,:2]\n",
    "print(ddslice3)"
   ]
  },
  {
   "cell_type": "code",
   "execution_count": 16,
   "metadata": {},
   "outputs": [
    {
     "name": "stdout",
     "output_type": "stream",
     "text": [
      "[[ 1  2  3]\n",
      " [ 5  6  7]\n",
      " [ 9 10 11]\n",
      " [13 14 15]]\n"
     ]
    }
   ],
   "source": [
    "# Select every entry on each column but skip the first one\n",
    "ddslice4 = darr[:, 1:]\n",
    "print(ddslice4)"
   ]
  },
  {
   "cell_type": "code",
   "execution_count": 17,
   "metadata": {},
   "outputs": [
    {
     "name": "stdout",
     "output_type": "stream",
     "text": [
      "[[ 5  6]\n",
      " [ 9 10]]\n"
     ]
    }
   ],
   "source": [
    "# Select the elements from the center square of the matrix\n",
    "# That is, the elements at coordinates [1,1] [1,2] [2,1] and [2,2]\n",
    "ddslice5 = darr[1:3, 1:3]\n",
    "print(ddslice5)"
   ]
  },
  {
   "cell_type": "markdown",
   "metadata": {},
   "source": [
    "It doesn't matter if you are selecting slices from a 1-dimensional array or higher, they will always return views to the original subsection of the array. This means that any change performed on the view is reflected back in the original array:"
   ]
  },
  {
   "cell_type": "code",
   "execution_count": 18,
   "metadata": {},
   "outputs": [
    {
     "name": "stdout",
     "output_type": "stream",
     "text": [
      "[[  0   1   2   3]\n",
      " [  4 255 255   7]\n",
      " [  8 255 255  11]\n",
      " [ 12  13  14  15]]\n"
     ]
    }
   ],
   "source": [
    "ddslice5[:] = 255\n",
    "print(darr)"
   ]
  },
  {
   "cell_type": "markdown",
   "metadata": {},
   "source": [
    "## Fancy indexing\n",
    "\n",
    "Fancy indexing is just, well, a fancy term for a simple concept: You can pass an array with indexes when selecting elements from a ndarray and it will return the elements in the right order."
   ]
  },
  {
   "cell_type": "code",
   "execution_count": 19,
   "metadata": {},
   "outputs": [
    {
     "name": "stdout",
     "output_type": "stream",
     "text": [
      "[[ 0  1  2  3  4  5  6  7  8  9]\n",
      " [10 11 12 13 14 15 16 17 18 19]\n",
      " [20 21 22 23 24 25 26 27 28 29]\n",
      " [30 31 32 33 34 35 36 37 38 39]\n",
      " [40 41 42 43 44 45 46 47 48 49]\n",
      " [50 51 52 53 54 55 56 57 58 59]\n",
      " [60 61 62 63 64 65 66 67 68 69]\n",
      " [70 71 72 73 74 75 76 77 78 79]\n",
      " [80 81 82 83 84 85 86 87 88 89]\n",
      " [90 91 92 93 94 95 96 97 98 99]]\n"
     ]
    }
   ],
   "source": [
    "tarr = np.arange(100).reshape(10, 10)\n",
    "print(tarr)"
   ]
  },
  {
   "cell_type": "code",
   "execution_count": 20,
   "metadata": {},
   "outputs": [
    {
     "name": "stdout",
     "output_type": "stream",
     "text": [
      "[[80 81 82 83 84 85 86 87 88 89]\n",
      " [40 41 42 43 44 45 46 47 48 49]\n",
      " [20 21 22 23 24 25 26 27 28 29]]\n"
     ]
    }
   ],
   "source": [
    "# Let's get the elements in the 8th, 4th and 2nd row in that order (Being the first row the zeroth)\n",
    "ordered = tarr[[8,4,2]]\n",
    "print(ordered)"
   ]
  },
  {
   "cell_type": "markdown",
   "metadata": {},
   "source": [
    "This is a very neat feature that comes in handy very often, so make sure to remember it exists and consult the documentation if you forget how to use it."
   ]
  },
  {
   "cell_type": "markdown",
   "metadata": {},
   "source": [
    "## Practice slicing a bit more on your own\n",
    "\n",
    "Selecting elements from arrays of many dimensions is very easy once you get the hang of it, but it can take a while to get used to the syntax. \n",
    "\n",
    "By far the easiest way to learn how to use this feature is to practice. Go and generate a bidimensional array and try to select different subsets of elements. If you can navigate the 2d scenario you will have no problem with more dimensions.\n",
    "\n",
    "In the next article, we will talk about universal functions and array-oriented programming, remember to check it out.\n",
    "\n",
    "Thanks for reading!"
   ]
  }
 ],
 "metadata": {
  "kernelspec": {
   "display_name": "Python 3",
   "language": "python",
   "name": "python3"
  },
  "language_info": {
   "codemirror_mode": {
    "name": "ipython",
    "version": 3
   },
   "file_extension": ".py",
   "mimetype": "text/x-python",
   "name": "python",
   "nbconvert_exporter": "python",
   "pygments_lexer": "ipython3",
   "version": "3.6.9"
  }
 },
 "nbformat": 4,
 "nbformat_minor": 2
}
