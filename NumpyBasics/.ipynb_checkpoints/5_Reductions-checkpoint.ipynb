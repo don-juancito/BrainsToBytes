{
 "cells": [
  {
   "cell_type": "markdown",
   "metadata": {},
   "source": [
    "Reductions (or aggregations) are a family of NumPy functions that operate over an array returning a result with fewer dimensions.\n",
    "\n",
    "Many of these functions perform typical statistical operations on arrays, while others perform dimensionality-reductions.\n",
    "\n",
    "In this article, we will learn about some of the most common aggregations, but before we get started we will create a couple of arrays to illustrate the functionality.\n",
    "\n",
    "Let's do that and start using reductions!"
   ]
  },
  {
   "cell_type": "code",
   "execution_count": 1,
   "metadata": {},
   "outputs": [
    {
     "name": "stdout",
     "output_type": "stream",
     "text": [
      "[-9  9  8  7  3  6  3  3 -7  9]\n"
     ]
    }
   ],
   "source": [
    "# Let's create a small 1-d array to check some basic functions\n",
    "import numpy as np \n",
    "\n",
    "arr = np.random.randint(-10, 10, 10)\n",
    "print(arr)"
   ]
  },
  {
   "cell_type": "code",
   "execution_count": 2,
   "metadata": {},
   "outputs": [
    {
     "name": "stdout",
     "output_type": "stream",
     "text": [
      "[[ -7  -8  -1  -7]\n",
      " [  1   0  -6   3]\n",
      " [  7 -10  -8  -2]\n",
      " [  0  -7   3  -8]]\n"
     ]
    }
   ],
   "source": [
    "# We will also use a 2-d array to show the dimension-reduction capabilities of aggregations\n",
    "arr2 = np.random.randint(-10, 10, 16).reshape(4,4)\n",
    "print(arr2)"
   ]
  },
  {
   "cell_type": "markdown",
   "metadata": {},
   "source": [
    "## 1-dimension, many dimensions\n",
    "\n",
    "Many reductions let you specify an axis as an argument that tells the direction in which the operation will be applied. This, of course, is much easier to understand with an example:\n",
    "\n",
    "We will use the *sum* function, that as you already know, performs the sum of elements in an array."
   ]
  },
  {
   "cell_type": "code",
   "execution_count": 3,
   "metadata": {},
   "outputs": [
    {
     "name": "stdout",
     "output_type": "stream",
     "text": [
      "32\n"
     ]
    }
   ],
   "source": [
    "# The 1-dimensional scenario has the most obvious behavior: \n",
    "# It returns a single number with the value of the sum of every element in the array:\n",
    "result = arr.sum()\n",
    "print(result)"
   ]
  },
  {
   "cell_type": "code",
   "execution_count": 4,
   "metadata": {},
   "outputs": [
    {
     "name": "stdout",
     "output_type": "stream",
     "text": [
      "-50\n"
     ]
    }
   ],
   "source": [
    "# Now, if we use it in an array with more dimensions, it will still return a single number\n",
    "# with the value of the sum of every element\n",
    "result = arr2.sum()\n",
    "print(result)"
   ]
  },
  {
   "cell_type": "markdown",
   "metadata": {},
   "source": [
    "Now, it gets a bit different if we provide an *axis*. This parameter specifies the axis (or axes) along which the operation is performed. The default value (None) in this case will just sum all the elements, but we can also specify if we want to sum along rows, columns, or higher dimension axes."
   ]
  },
  {
   "cell_type": "code",
   "execution_count": 5,
   "metadata": {},
   "outputs": [
    {
     "name": "stdout",
     "output_type": "stream",
     "text": [
      "[  1 -25 -12 -14]\n"
     ]
    }
   ],
   "source": [
    "# Sum the contents along every row (axis=0)\n",
    "result = arr2.sum(axis=0)\n",
    "print(result)"
   ]
  },
  {
   "cell_type": "code",
   "execution_count": 6,
   "metadata": {},
   "outputs": [
    {
     "name": "stdout",
     "output_type": "stream",
     "text": [
      "[-23  -2 -13 -12]\n"
     ]
    }
   ],
   "source": [
    "# Sum the contents along every column (axis=1)\n",
    "result = arr2.sum(axis=1)\n",
    "print(result)"
   ]
  },
  {
   "cell_type": "markdown",
   "metadata": {},
   "source": [
    "It took me a while to understand what it means to perform an operation along an axis. The easiest way I found to explain it is like this:\n",
    "\n",
    "*Grab every nth element of the axes you are using and perform the operation.*\n",
    "\n",
    "In the first case (axis=0) this means that you will sum the nth elements of every row. You can see it in code by replacing the selector with the : symbol and see the results"
   ]
  },
  {
   "cell_type": "code",
   "execution_count": 7,
   "metadata": {},
   "outputs": [
    {
     "name": "stdout",
     "output_type": "stream",
     "text": [
      "[-7  1  7  0]\n",
      "1\n"
     ]
    }
   ],
   "source": [
    "# Sum(axis=0) first entry will be produced by grabbing this\n",
    "sub_arr = arr2[:,0]\n",
    "print(sub_arr)\n",
    "\n",
    "# And calling sum on it\n",
    "print(sub_arr.sum())"
   ]
  },
  {
   "cell_type": "code",
   "execution_count": 8,
   "metadata": {},
   "outputs": [
    {
     "name": "stdout",
     "output_type": "stream",
     "text": [
      "[ -8   0 -10  -7]\n",
      "-25\n"
     ]
    }
   ],
   "source": [
    "# Sum(axis=0) second entry will be produced by grabbing this\n",
    "sub_arr = arr2[:,1] # We are summing along rows, so keep that as : and change the column\n",
    "print(sub_arr)\n",
    "\n",
    "# And calling sum on it\n",
    "print(sub_arr.sum())"
   ]
  },
  {
   "cell_type": "markdown",
   "metadata": {},
   "source": [
    "Now you understand why the result is ```[  1 -25 -12 -14]```. If you are still having problems understanding what *perform an operation along an axis* means, repeat the example we just wrote but put the : symbol on the column selector. If you got it, try a 3-dimensional array and see how this works, as a bonus, you can provide tuples when performing dimensionality reduction!\n",
    "\n",
    "Now that we understand this axis business we can move on to other functions!"
   ]
  },
  {
   "cell_type": "code",
   "execution_count": 9,
   "metadata": {},
   "outputs": [
    {
     "name": "stdout",
     "output_type": "stream",
     "text": [
      "3.2\n"
     ]
    }
   ],
   "source": [
    "# mean computes the arithmetic mean along a specified axis\n",
    "result = np.mean(arr)\n",
    "print(result)"
   ]
  },
  {
   "cell_type": "code",
   "execution_count": 10,
   "metadata": {},
   "outputs": [
    {
     "name": "stdout",
     "output_type": "stream",
     "text": [
      "4.5\n"
     ]
    }
   ],
   "source": [
    "# median calculates the median along the specified axis\n",
    "result = np.median(arr)\n",
    "print(result)"
   ]
  },
  {
   "cell_type": "code",
   "execution_count": 11,
   "metadata": {},
   "outputs": [
    {
     "name": "stdout",
     "output_type": "stream",
     "text": [
      "3.2\n"
     ]
    }
   ],
   "source": [
    "# mverage calculates the weighted average along a specified axis\n",
    "result = np.average(arr)\n",
    "print(result)"
   ]
  },
  {
   "cell_type": "code",
   "execution_count": 12,
   "metadata": {},
   "outputs": [
    {
     "name": "stdout",
     "output_type": "stream",
     "text": [
      "6.046486583132388\n"
     ]
    }
   ],
   "source": [
    "# std calculates the standard deviation (yes, yes, axis axis axis)\n",
    "result = np.std(arr)\n",
    "print(result)"
   ]
  },
  {
   "cell_type": "code",
   "execution_count": 13,
   "metadata": {},
   "outputs": [
    {
     "name": "stdout",
     "output_type": "stream",
     "text": [
      "36.55999999999999\n"
     ]
    }
   ],
   "source": [
    "# var calculates the variance, and yes, along a specified axis\n",
    "result = np.var(arr)\n",
    "print(result)"
   ]
  },
  {
   "cell_type": "code",
   "execution_count": 14,
   "metadata": {},
   "outputs": [
    {
     "name": "stdout",
     "output_type": "stream",
     "text": [
      "-9\n"
     ]
    }
   ],
   "source": [
    "# amin returns the minimum of an array or minimum along an axis.\n",
    "result = np.amin(arr)\n",
    "print(result)"
   ]
  },
  {
   "cell_type": "code",
   "execution_count": 15,
   "metadata": {},
   "outputs": [
    {
     "name": "stdout",
     "output_type": "stream",
     "text": [
      "9\n"
     ]
    }
   ],
   "source": [
    "# amax returns the maximum of an array or minimum along an axis.\n",
    "result = np.amax(arr)\n",
    "print(result)"
   ]
  },
  {
   "cell_type": "markdown",
   "metadata": {},
   "source": [
    "Most of these methods also have variants that ignore NaN values in the array. For example, amin has nanmin, mean has nanmean, and so on ...\n",
    "\n",
    "## Fast, concise, clean\n",
    "\n",
    "NumPy's reductions are among some of its most useful features. Knowing how to use them forms part of the foundation for more advanced data analysis and dimensionality reduction. This article only outlines some common functions, but there are lots of cool things already implemented for you. You can find more statistical and mathematical functions in these places:\n",
    "\n",
    "* [Statistics](https://numpy.org/doc/stable/reference/routines.statistics.html)\n",
    "* [Mathematical](https://numpy.org/doc/stable/reference/routines.math.html)\n",
    "\n",
    "Take a look at the documentation and play around with the functions. \n",
    "\n",
    "Cool, we are almost done with NumPy basics. The next article will be the last one, and it will cover Numpy's linear algebra utilities, see you there!\n",
    "\n",
    "Thank you for reading!"
   ]
  }
 ],
 "metadata": {
  "kernelspec": {
   "display_name": "Python 3",
   "language": "python",
   "name": "python3"
  },
  "language_info": {
   "codemirror_mode": {
    "name": "ipython",
    "version": 3
   },
   "file_extension": ".py",
   "mimetype": "text/x-python",
   "name": "python",
   "nbconvert_exporter": "python",
   "pygments_lexer": "ipython3",
   "version": "3.6.9"
  }
 },
 "nbformat": 4,
 "nbformat_minor": 2
}
