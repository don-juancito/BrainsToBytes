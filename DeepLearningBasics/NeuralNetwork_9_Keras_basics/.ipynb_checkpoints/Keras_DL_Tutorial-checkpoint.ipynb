{
 "cells": [
  {
   "cell_type": "code",
   "execution_count": 1,
   "metadata": {},
   "outputs": [],
   "source": [
    "# Import tensorflow and Keras\n",
    "import tensorflow as tf\n",
    "from tensorflow import keras\n",
    "\n",
    "# Import support libraries for plotting\n",
    "import matplotlib.pyplot as plt"
   ]
  },
  {
   "cell_type": "code",
   "execution_count": 2,
   "metadata": {},
   "outputs": [
    {
     "name": "stderr",
     "output_type": "stream",
     "text": [
      "Using TensorFlow backend.\n"
     ]
    }
   ],
   "source": [
    "# We will use the good old MNIST set of handwritten digits\n",
    "from keras.datasets import mnist\n",
    "\n",
    "(x_train, y_train), (x_test, y_test) = mnist.load_data()"
   ]
  },
  {
   "cell_type": "code",
   "execution_count": 3,
   "metadata": {},
   "outputs": [
    {
     "data": {
      "text/plain": [
       "(60000, 28, 28)"
      ]
     },
     "execution_count": 3,
     "metadata": {},
     "output_type": "execute_result"
    }
   ],
   "source": [
    "# We have 60.000 training examples, each is a 28x28 matrix with values from 0 to 255\n",
    "x_train.shape"
   ]
  },
  {
   "cell_type": "code",
   "execution_count": 4,
   "metadata": {},
   "outputs": [
    {
     "data": {
      "text/plain": [
       "(60000,)"
      ]
     },
     "execution_count": 4,
     "metadata": {},
     "output_type": "execute_result"
    }
   ],
   "source": [
    "# We also have 60.000 labels for training\n",
    "y_train.shape"
   ]
  },
  {
   "cell_type": "code",
   "execution_count": 5,
   "metadata": {},
   "outputs": [
    {
     "data": {
      "text/plain": [
       "array([5, 0, 4, ..., 5, 6, 8], dtype=uint8)"
      ]
     },
     "execution_count": 5,
     "metadata": {},
     "output_type": "execute_result"
    }
   ],
   "source": [
    "# The labels are numbers from 1 to 9\n",
    "y_train"
   ]
  },
  {
   "cell_type": "code",
   "execution_count": 6,
   "metadata": {},
   "outputs": [
    {
     "data": {
      "image/png": "[encoded data removed]",
      "text/plain": [
       "<Figure size 432x288 with 2 Axes>"
      ]
     },
     "metadata": {
      "needs_background": "light"
     },
     "output_type": "display_data"
    }
   ],
   "source": [
    "plt.figure()\n",
    "plt.imshow(x_train[0])\n",
    "plt.colorbar()\n",
    "plt.grid(False)\n",
    "plt.show()"
   ]
  },
  {
   "cell_type": "code",
   "execution_count": 7,
   "metadata": {},
   "outputs": [
    {
     "data": {
      "text/plain": [
       "5"
      ]
     },
     "execution_count": 7,
     "metadata": {},
     "output_type": "execute_result"
    }
   ],
   "source": [
    "# We can now show the label for this image and verify it's a 5\n",
    "y_train[0]"
   ]
  },
  {
   "cell_type": "code",
   "execution_count": 8,
   "metadata": {},
   "outputs": [
    {
     "data": {
      "image/png": "[encoded data removed]",
      "text/plain": [
       "<Figure size 432x288 with 2 Axes>"
      ]
     },
     "metadata": {
      "needs_background": "light"
     },
     "output_type": "display_data"
    }
   ],
   "source": [
    "# Let's see another example\n",
    "plt.imshow(x_train[33])\n",
    "plt.colorbar()\n",
    "plt.grid(False)\n",
    "plt.show()"
   ]
  },
  {
   "cell_type": "code",
   "execution_count": 9,
   "metadata": {},
   "outputs": [
    {
     "data": {
      "text/plain": [
       "9"
      ]
     },
     "execution_count": 9,
     "metadata": {},
     "output_type": "execute_result"
    }
   ],
   "source": [
    "y_train[33]"
   ]
  },
  {
   "cell_type": "code",
   "execution_count": 10,
   "metadata": {},
   "outputs": [],
   "source": [
    "# Now let's do some image pre-processing\n",
    "# Neural networks work better with values between 0 and 1, so let's put them in that range:\n",
    "x_train = x_train / 255.0\n",
    "x_test = x_test / 255.0"
   ]
  },
  {
   "cell_type": "code",
   "execution_count": 11,
   "metadata": {},
   "outputs": [],
   "source": [
    "# Now it's time to build a neural network\n",
    "\n",
    "model = keras.Sequential([\n",
    "    keras.layers.Flatten(input_shape=(28, 28)),\n",
    "    keras.layers.Dense(512, activation='relu'),\n",
    "    keras.layers.Dense(216, activation='relu'),\n",
    "    keras.layers.Dense(128, activation='relu'),\n",
    "    keras.layers.Dense(64, activation='relu'),\n",
    "    keras.layers.Dense(32, activation='relu'),\n",
    "    keras.layers.Dense(16, activation='relu'),\n",
    "    keras.layers.Dense(10, activation='softmax')\n",
    "])\n",
    "\n",
    "model.compile(loss='sparse_categorical_crossentropy',\n",
    "             optimizer='adam',\n",
    "             metrics=['accuracy'])\n"
   ]
  },
  {
   "cell_type": "code",
   "execution_count": 12,
   "metadata": {},
   "outputs": [
    {
     "name": "stdout",
     "output_type": "stream",
     "text": [
      "Model: \"sequential\"\n",
      "_________________________________________________________________\n",
      "Layer (type)                 Output Shape              Param #   \n",
      "=================================================================\n",
      "flatten (Flatten)            (None, 784)               0         \n",
      "_________________________________________________________________\n",
      "dense (Dense)                (None, 512)               401920    \n",
      "_________________________________________________________________\n",
      "dense_1 (Dense)              (None, 216)               110808    \n",
      "_________________________________________________________________\n",
      "dense_2 (Dense)              (None, 128)               27776     \n",
      "_________________________________________________________________\n",
      "dense_3 (Dense)              (None, 64)                8256      \n",
      "_________________________________________________________________\n",
      "dense_4 (Dense)              (None, 32)                2080      \n",
      "_________________________________________________________________\n",
      "dense_5 (Dense)              (None, 16)                528       \n",
      "_________________________________________________________________\n",
      "dense_6 (Dense)              (None, 10)                170       \n",
      "=================================================================\n",
      "Total params: 551,538\n",
      "Trainable params: 551,538\n",
      "Non-trainable params: 0\n",
      "_________________________________________________________________\n"
     ]
    }
   ],
   "source": [
    "model.summary()"
   ]
  },
  {
   "cell_type": "code",
   "execution_count": 13,
   "metadata": {},
   "outputs": [
    {
     "name": "stdout",
     "output_type": "stream",
     "text": [
      "Train on 60000 samples\n",
      "Epoch 1/20\n",
      "60000/60000 [==============================] - 8s 131us/sample - loss: 0.2505 - accuracy: 0.9252\n",
      "Epoch 2/20\n",
      "60000/60000 [==============================] - 7s 123us/sample - loss: 0.1042 - accuracy: 0.9693\n",
      "Epoch 3/20\n",
      "60000/60000 [==============================] - 8s 125us/sample - loss: 0.0760 - accuracy: 0.9777\n",
      "Epoch 4/20\n",
      "60000/60000 [==============================] - 7s 125us/sample - loss: 0.0613 - accuracy: 0.9822\n",
      "Epoch 5/20\n",
      "60000/60000 [==============================] - 8s 139us/sample - loss: 0.0478 - accuracy: 0.9858\n",
      "Epoch 6/20\n",
      "60000/60000 [==============================] - 9s 157us/sample - loss: 0.0404 - accuracy: 0.9883\n",
      "Epoch 7/20\n",
      "60000/60000 [==============================] - 9s 142us/sample - loss: 0.0370 - accuracy: 0.9894\n",
      "Epoch 8/20\n",
      "60000/60000 [==============================] - 8s 141us/sample - loss: 0.0297 - accuracy: 0.9914\n",
      "Epoch 9/20\n",
      "60000/60000 [==============================] - 8s 141us/sample - loss: 0.0300 - accuracy: 0.9915\n",
      "Epoch 10/20\n",
      "60000/60000 [==============================] - 8s 132us/sample - loss: 0.0260 - accuracy: 0.9929\n",
      "Epoch 11/20\n",
      "60000/60000 [==============================] - 8s 132us/sample - loss: 0.0242 - accuracy: 0.9937\n",
      "Epoch 12/20\n",
      "60000/60000 [==============================] - 8s 132us/sample - loss: 0.0199 - accuracy: 0.9946\n",
      "Epoch 13/20\n",
      "60000/60000 [==============================] - 8s 131us/sample - loss: 0.0205 - accuracy: 0.9944\n",
      "Epoch 14/20\n",
      "60000/60000 [==============================] - 8s 137us/sample - loss: 0.0192 - accuracy: 0.9945\n",
      "Epoch 15/20\n",
      "60000/60000 [==============================] - 8s 140us/sample - loss: 0.0175 - accuracy: 0.9949\n",
      "Epoch 16/20\n",
      "60000/60000 [==============================] - 8s 137us/sample - loss: 0.0168 - accuracy: 0.9955\n",
      "Epoch 17/20\n",
      "60000/60000 [==============================] - 9s 143us/sample - loss: 0.0143 - accuracy: 0.9963\n",
      "Epoch 18/20\n",
      "60000/60000 [==============================] - 8s 139us/sample - loss: 0.0120 - accuracy: 0.9968\n",
      "Epoch 19/20\n",
      "60000/60000 [==============================] - 8s 141us/sample - loss: 0.0162 - accuracy: 0.9958\n",
      "Epoch 20/20\n",
      "60000/60000 [==============================] - 9s 147us/sample - loss: 0.0151 - accuracy: 0.9961\n"
     ]
    }
   ],
   "source": [
    "history = model.fit(x_train, y_train, epochs=20)"
   ]
  },
  {
   "cell_type": "code",
   "execution_count": 16,
   "metadata": {},
   "outputs": [
    {
     "name": "stdout",
     "output_type": "stream",
     "text": [
      "Test accuracy: 0.9816\n",
      "Test loss: 0.10090606465352094\n"
     ]
    }
   ],
   "source": [
    "test_loss, test_acc = model.evaluate(x_test,  y_test, verbose=0)\n",
    "\n",
    "print('Test accuracy:', test_acc)\n",
    "print('Test loss:', test_loss)"
   ]
  },
  {
   "cell_type": "code",
   "execution_count": 15,
   "metadata": {},
   "outputs": [
    {
     "data": {
      "image/png": "[encoded data removed]",
      "text/plain": [
       "<Figure size 432x288 with 1 Axes>"
      ]
     },
     "metadata": {
      "needs_background": "light"
     },
     "output_type": "display_data"
    },
    {
     "data": {
      "image/png": "[encoded data removed]",
      "text/plain": [
       "<Figure size 432x288 with 1 Axes>"
      ]
     },
     "metadata": {
      "needs_background": "light"
     },
     "output_type": "display_data"
    }
   ],
   "source": [
    "# Plot training & validation accuracy values\n",
    "plt.plot(history.history['accuracy'])\n",
    "plt.title('Model accuracy')\n",
    "plt.ylabel('Accuracy')\n",
    "plt.xlabel('Epoch')\n",
    "plt.legend(['Train'], loc='upper left')\n",
    "plt.show()\n",
    "\n",
    "# Plot training & validation loss values\n",
    "plt.plot(history.history['loss'])\n",
    "plt.title('Model loss')\n",
    "plt.ylabel('Loss')\n",
    "plt.xlabel('Epoch')\n",
    "plt.legend(['Train'], loc='upper left')\n",
    "plt.show()\n"
   ]
  }
 ],
 "metadata": {
  "kernelspec": {
   "display_name": "Python 3",
   "language": "python",
   "name": "python3"
  },
  "language_info": {
   "codemirror_mode": {
    "name": "ipython",
    "version": 3
   },
   "file_extension": ".py",
   "mimetype": "text/x-python",
   "name": "python",
   "nbconvert_exporter": "python",
   "pygments_lexer": "ipython3",
   "version": "3.6.9"
  }
 },
 "nbformat": 4,
 "nbformat_minor": 2
}
