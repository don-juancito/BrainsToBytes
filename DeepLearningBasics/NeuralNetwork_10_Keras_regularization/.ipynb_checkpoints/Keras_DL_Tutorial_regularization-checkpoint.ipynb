{
 "cells": [
  {
   "cell_type": "code",
   "execution_count": 28,
   "metadata": {},
   "outputs": [],
   "source": [
    "# Import tensorflow and Keras\n",
    "import tensorflow as tf\n",
    "from tensorflow import keras\n",
    "\n",
    "# Import support libraries for matrix operations and plotting\n",
    "import numpy as np\n",
    "import matplotlib.pyplot as plt"
   ]
  },
  {
   "cell_type": "code",
   "execution_count": 64,
   "metadata": {},
   "outputs": [],
   "source": [
    "# We will use the good old MNIST set of handwritten digits\n",
    "from keras.datasets import mnist\n",
    "\n",
    "(x_train, y_train), (x_test, y_test) = mnist.load_data()"
   ]
  },
  {
   "cell_type": "code",
   "execution_count": 30,
   "metadata": {},
   "outputs": [
    {
     "data": {
      "text/plain": [
       "(60000, 28, 28)"
      ]
     },
     "execution_count": 30,
     "metadata": {},
     "output_type": "execute_result"
    }
   ],
   "source": [
    "x_train.shape"
   ]
  },
  {
   "cell_type": "code",
   "execution_count": 31,
   "metadata": {},
   "outputs": [
    {
     "data": {
      "text/plain": [
       "(60000,)"
      ]
     },
     "execution_count": 31,
     "metadata": {},
     "output_type": "execute_result"
    }
   ],
   "source": [
    "y_train.shape"
   ]
  },
  {
   "cell_type": "code",
   "execution_count": 32,
   "metadata": {},
   "outputs": [
    {
     "data": {
      "text/plain": [
       "array([5, 0, 4, ..., 5, 6, 8], dtype=uint8)"
      ]
     },
     "execution_count": 32,
     "metadata": {},
     "output_type": "execute_result"
    }
   ],
   "source": [
    "y_train"
   ]
  },
  {
   "cell_type": "code",
   "execution_count": 34,
   "metadata": {},
   "outputs": [
    {
     "data": {
      "image/png": "[encoded data removed]",
      "text/plain": [
       "<Figure size 432x288 with 2 Axes>"
      ]
     },
     "metadata": {
      "needs_background": "light"
     },
     "output_type": "display_data"
    }
   ],
   "source": [
    "plt.figure()\n",
    "plt.imshow(image_example)\n",
    "plt.colorbar()\n",
    "plt.grid(False)\n",
    "plt.show()"
   ]
  },
  {
   "cell_type": "code",
   "execution_count": 35,
   "metadata": {},
   "outputs": [
    {
     "data": {
      "text/plain": [
       "5"
      ]
     },
     "execution_count": 35,
     "metadata": {},
     "output_type": "execute_result"
    }
   ],
   "source": [
    "# We can now show the label for this image and verify it's a 5\n",
    "y_train[0]"
   ]
  },
  {
   "cell_type": "code",
   "execution_count": 36,
   "metadata": {},
   "outputs": [
    {
     "data": {
      "image/png": "[encoded data removed]",
      "text/plain": [
       "<Figure size 432x288 with 2 Axes>"
      ]
     },
     "metadata": {
      "needs_background": "light"
     },
     "output_type": "display_data"
    }
   ],
   "source": [
    "# Let's see another example\n",
    "plt.imshow(x_train[33])\n",
    "plt.colorbar()\n",
    "plt.grid(False)\n",
    "plt.show()"
   ]
  },
  {
   "cell_type": "code",
   "execution_count": 37,
   "metadata": {},
   "outputs": [
    {
     "data": {
      "text/plain": [
       "9"
      ]
     },
     "execution_count": 37,
     "metadata": {},
     "output_type": "execute_result"
    }
   ],
   "source": [
    "y_train[33]"
   ]
  },
  {
   "cell_type": "code",
   "execution_count": 38,
   "metadata": {},
   "outputs": [],
   "source": [
    "# Now let's do some image pre-processing\n",
    "# Scale these values to a range of 0 to 1 before feeding them to the neural network model. \n",
    "# To do so, divide the values by 255.\n",
    "# We need to pre-process both the train and test images\n",
    "\n",
    "x_train = x_train / 255.0\n",
    "x_test = x_test / 255.0"
   ]
  },
  {
   "cell_type": "code",
   "execution_count": 65,
   "metadata": {},
   "outputs": [
    {
     "data": {
      "text/plain": [
       "(50000, 28, 28)"
      ]
     },
     "execution_count": 65,
     "metadata": {},
     "output_type": "execute_result"
    }
   ],
   "source": [
    "x_validation = x_train[50000:]\n",
    "y_validation = y_train[50000:]\n",
    "x_train = x_train[:50000]\n",
    "y_train = y_train[:50000]"
   ]
  },
  {
   "cell_type": "code",
   "execution_count": 106,
   "metadata": {},
   "outputs": [],
   "source": [
    "b"
   ]
  },
  {
   "cell_type": "code",
   "execution_count": 107,
   "metadata": {},
   "outputs": [
    {
     "name": "stdout",
     "output_type": "stream",
     "text": [
      "Model: \"sequential_6\"\n",
      "_________________________________________________________________\n",
      "Layer (type)                 Output Shape              Param #   \n",
      "=================================================================\n",
      "flatten_6 (Flatten)          (None, 784)               0         \n",
      "_________________________________________________________________\n",
      "dense_22 (Dense)             (None, 128)               100480    \n",
      "_________________________________________________________________\n",
      "dense_23 (Dense)             (None, 64)                8256      \n",
      "_________________________________________________________________\n",
      "dense_24 (Dense)             (None, 32)                2080      \n",
      "_________________________________________________________________\n",
      "dense_25 (Dense)             (None, 16)                528       \n",
      "_________________________________________________________________\n",
      "dense_26 (Dense)             (None, 10)                170       \n",
      "=================================================================\n",
      "Total params: 111,514\n",
      "Trainable params: 111,514\n",
      "Non-trainable params: 0\n",
      "_________________________________________________________________\n"
     ]
    }
   ],
   "source": [
    "model.summary()"
   ]
  },
  {
   "cell_type": "code",
   "execution_count": 111,
   "metadata": {},
   "outputs": [
    {
     "name": "stdout",
     "output_type": "stream",
     "text": [
      "Train on 50000 samples, validate on 10000 samples\n",
      "Epoch 1/50\n",
      "50000/50000 [==============================] - 4s 88us/sample - loss: 0.8961 - accuracy: 0.8401 - val_loss: 1.5493 - val_accuracy: 0.8294\n",
      "Epoch 2/50\n",
      "50000/50000 [==============================] - 5s 95us/sample - loss: 0.9038 - accuracy: 0.8353 - val_loss: 1.3421 - val_accuracy: 0.8129\n",
      "Epoch 3/50\n",
      "50000/50000 [==============================] - 4s 89us/sample - loss: 0.8430 - accuracy: 0.8501 - val_loss: 1.4956 - val_accuracy: 0.8162\n",
      "Epoch 4/50\n",
      "50000/50000 [==============================] - 5s 93us/sample - loss: 0.8471 - accuracy: 0.8416 - val_loss: 2.0210 - val_accuracy: 0.8251\n",
      "Epoch 5/50\n",
      "50000/50000 [==============================] - 5s 93us/sample - loss: 0.9308 - accuracy: 0.8432 - val_loss: 1.4132 - val_accuracy: 0.8547\n",
      "Epoch 6/50\n",
      "50000/50000 [==============================] - 4s 90us/sample - loss: 0.8983 - accuracy: 0.8450 - val_loss: 1.1371 - val_accuracy: 0.8119\n",
      "Epoch 7/50\n",
      "50000/50000 [==============================] - 5s 91us/sample - loss: 0.8857 - accuracy: 0.8357 - val_loss: 1.7682 - val_accuracy: 0.8427\n",
      "Epoch 8/50\n",
      "50000/50000 [==============================] - 5s 90us/sample - loss: 0.8920 - accuracy: 0.8238 - val_loss: 1.4889 - val_accuracy: 0.8312\n",
      "Epoch 9/50\n",
      "50000/50000 [==============================] - 5s 90us/sample - loss: 0.9444 - accuracy: 0.8218 - val_loss: 1.4246 - val_accuracy: 0.8493\n",
      "Epoch 10/50\n",
      "50000/50000 [==============================] - 5s 91us/sample - loss: 0.9119 - accuracy: 0.8091 - val_loss: 2.4486 - val_accuracy: 0.8547\n",
      "Epoch 11/50\n",
      "50000/50000 [==============================] - 5s 99us/sample - loss: 1.0672 - accuracy: 0.8164 - val_loss: 1.7211 - val_accuracy: 0.7382\n",
      "Epoch 12/50\n",
      "50000/50000 [==============================] - 5s 102us/sample - loss: 1.1093 - accuracy: 0.7751 - val_loss: 1.4669 - val_accuracy: 0.7832\n",
      "Epoch 13/50\n",
      "50000/50000 [==============================] - 5s 100us/sample - loss: 1.1157 - accuracy: 0.7798 - val_loss: 1.6619 - val_accuracy: 0.7560\n",
      "Epoch 14/50\n",
      "50000/50000 [==============================] - 5s 102us/sample - loss: 1.1432 - accuracy: 0.7833 - val_loss: 2.2301 - val_accuracy: 0.8080\n",
      "Epoch 15/50\n",
      "50000/50000 [==============================] - 5s 101us/sample - loss: 1.1797 - accuracy: 0.7794 - val_loss: 1.3004 - val_accuracy: 0.7936\n",
      "Epoch 16/50\n",
      "50000/50000 [==============================] - 5s 97us/sample - loss: 1.1901 - accuracy: 0.7704 - val_loss: 1.3944 - val_accuracy: 0.6930\n",
      "Epoch 17/50\n",
      "50000/50000 [==============================] - 5s 103us/sample - loss: 1.2251 - accuracy: 0.7641 - val_loss: 1.8888 - val_accuracy: 0.7909\n",
      "Epoch 18/50\n",
      "50000/50000 [==============================] - 5s 107us/sample - loss: 1.4550 - accuracy: 0.7693 - val_loss: 2.1645 - val_accuracy: 0.7879\n",
      "Epoch 19/50\n",
      "50000/50000 [==============================] - 5s 102us/sample - loss: 1.2975 - accuracy: 0.7465 - val_loss: 3.5774 - val_accuracy: 0.7962\n",
      "Epoch 20/50\n",
      "50000/50000 [==============================] - 5s 95us/sample - loss: 1.4610 - accuracy: 0.7560 - val_loss: 1.9425 - val_accuracy: 0.7345\n",
      "Epoch 21/50\n",
      "50000/50000 [==============================] - 5s 98us/sample - loss: 1.3234 - accuracy: 0.7326 - val_loss: 2.0245 - val_accuracy: 0.8223\n",
      "Epoch 22/50\n",
      "50000/50000 [==============================] - 6s 113us/sample - loss: 1.2511 - accuracy: 0.7430 - val_loss: 3.9064 - val_accuracy: 0.7927\n",
      "Epoch 23/50\n",
      "50000/50000 [==============================] - 5s 102us/sample - loss: 1.5059 - accuracy: 0.7186 - val_loss: 2.2029 - val_accuracy: 0.7818\n",
      "Epoch 24/50\n",
      "50000/50000 [==============================] - 5s 105us/sample - loss: 1.3562 - accuracy: 0.7173 - val_loss: 2.0029 - val_accuracy: 0.7243\n",
      "Epoch 25/50\n",
      "50000/50000 [==============================] - 5s 102us/sample - loss: 1.5908 - accuracy: 0.7360 - val_loss: 1.9377 - val_accuracy: 0.7350\n",
      "Epoch 26/50\n",
      "50000/50000 [==============================] - 5s 97us/sample - loss: 1.4876 - accuracy: 0.7248 - val_loss: 2.9729 - val_accuracy: 0.7340\n",
      "Epoch 27/50\n",
      "50000/50000 [==============================] - 5s 107us/sample - loss: 1.6347 - accuracy: 0.6913 - val_loss: 1.9250 - val_accuracy: 0.6469\n",
      "Epoch 28/50\n",
      "50000/50000 [==============================] - 5s 94us/sample - loss: 1.5841 - accuracy: 0.7040 - val_loss: 5.0993 - val_accuracy: 0.8220\n",
      "Epoch 29/50\n",
      "50000/50000 [==============================] - 5s 105us/sample - loss: 1.4886 - accuracy: 0.7003 - val_loss: 2.0634 - val_accuracy: 0.6837\n",
      "Epoch 30/50\n",
      "50000/50000 [==============================] - 5s 96us/sample - loss: 1.5086 - accuracy: 0.7125 - val_loss: 2.4399 - val_accuracy: 0.6061\n",
      "Epoch 31/50\n",
      "50000/50000 [==============================] - 5s 106us/sample - loss: 1.7852 - accuracy: 0.6904 - val_loss: 2.8721 - val_accuracy: 0.7378\n",
      "Epoch 32/50\n",
      "50000/50000 [==============================] - 5s 104us/sample - loss: 1.6286 - accuracy: 0.6765 - val_loss: 1.7015 - val_accuracy: 0.5908\n",
      "Epoch 33/50\n",
      "50000/50000 [==============================] - 5s 103us/sample - loss: 1.5453 - accuracy: 0.6207 - val_loss: 2.0259 - val_accuracy: 0.6888\n",
      "Epoch 34/50\n",
      "50000/50000 [==============================] - 5s 102us/sample - loss: 1.9272 - accuracy: 0.6220 - val_loss: 2.4044 - val_accuracy: 0.5885\n",
      "Epoch 35/50\n",
      "50000/50000 [==============================] - 5s 107us/sample - loss: 1.8393 - accuracy: 0.6268 - val_loss: 4.7257 - val_accuracy: 0.6610\n",
      "Epoch 36/50\n",
      "50000/50000 [==============================] - 5s 100us/sample - loss: 2.0432 - accuracy: 0.6377 - val_loss: 3.0545 - val_accuracy: 0.6620\n",
      "Epoch 37/50\n",
      "50000/50000 [==============================] - 5s 105us/sample - loss: 1.8478 - accuracy: 0.6245 - val_loss: 2.5027 - val_accuracy: 0.6127\n",
      "Epoch 38/50\n",
      "50000/50000 [==============================] - 5s 104us/sample - loss: 1.7906 - accuracy: 0.5955 - val_loss: 2.5074 - val_accuracy: 0.5880\n",
      "Epoch 39/50\n",
      "50000/50000 [==============================] - 5s 103us/sample - loss: 1.7612 - accuracy: 0.5946 - val_loss: 3.5553 - val_accuracy: 0.6250\n",
      "Epoch 40/50\n",
      "50000/50000 [==============================] - 5s 102us/sample - loss: 1.9261 - accuracy: 0.6067 - val_loss: 3.4495 - val_accuracy: 0.5996\n",
      "Epoch 41/50\n",
      "50000/50000 [==============================] - 5s 106us/sample - loss: 2.1491 - accuracy: 0.6095 - val_loss: 6.3779 - val_accuracy: 0.5770\n",
      "Epoch 42/50\n",
      "50000/50000 [==============================] - 5s 104us/sample - loss: 3.1551 - accuracy: 0.6073 - val_loss: 1.9262 - val_accuracy: 0.5866\n",
      "Epoch 43/50\n",
      "50000/50000 [==============================] - 5s 101us/sample - loss: 1.8566 - accuracy: 0.5601 - val_loss: 3.0767 - val_accuracy: 0.5299\n",
      "Epoch 44/50\n",
      "50000/50000 [==============================] - 5s 103us/sample - loss: 2.7073 - accuracy: 0.5654 - val_loss: 2.6141 - val_accuracy: 0.6244\n",
      "Epoch 45/50\n",
      "50000/50000 [==============================] - 5s 99us/sample - loss: 2.0172 - accuracy: 0.5769 - val_loss: 2.4456 - val_accuracy: 0.5967\n",
      "Epoch 46/50\n",
      "50000/50000 [==============================] - 5s 107us/sample - loss: 3.7039 - accuracy: 0.5549 - val_loss: 2.7614 - val_accuracy: 0.5455\n",
      "Epoch 47/50\n",
      "50000/50000 [==============================] - 5s 106us/sample - loss: 1.7845 - accuracy: 0.5365 - val_loss: 6.0600 - val_accuracy: 0.5796\n",
      "Epoch 48/50\n",
      "50000/50000 [==============================] - 5s 108us/sample - loss: 3.3954 - accuracy: 0.5225 - val_loss: 15.7208 - val_accuracy: 0.5980\n",
      "Epoch 49/50\n",
      "50000/50000 [==============================] - 6s 111us/sample - loss: 4.1427 - accuracy: 0.5082 - val_loss: 2.9487 - val_accuracy: 0.4408\n",
      "Epoch 50/50\n",
      "50000/50000 [==============================] - 5s 100us/sample - loss: 3.5596 - accuracy: 0.4471 - val_loss: 2.4937 - val_accuracy: 0.4299\n"
     ]
    }
   ],
   "source": [
    "history = model.fit(x_train, y_train, epochs=50, validation_data=(x_validation, y_validation))"
   ]
  },
  {
   "cell_type": "code",
   "execution_count": 112,
   "metadata": {},
   "outputs": [
    {
     "name": "stdout",
     "output_type": "stream",
     "text": [
      "10000/1 - 0s - loss: 1.9790 - accuracy: 0.4104\n",
      "Test accuracy: 0.4104\n",
      "Test loss: 2.761719382095337\n"
     ]
    }
   ],
   "source": [
    "test_loss, test_acc = model.evaluate(x_test,  y_test, verbose=2)\n",
    "\n",
    "print('Test accuracy:', test_acc)\n",
    "print('Test loss:', test_loss)"
   ]
  },
  {
   "cell_type": "code",
   "execution_count": 113,
   "metadata": {
    "scrolled": true
   },
   "outputs": [
    {
     "data": {
      "image/png": "[encoded data removed]",
      "text/plain": [
       "<Figure size 432x288 with 1 Axes>"
      ]
     },
     "metadata": {
      "needs_background": "light"
     },
     "output_type": "display_data"
    }
   ],
   "source": [
    "# Plot training & validation accuracy values\n",
    "plt.plot(history.history['accuracy'])\n",
    "plt.plot(history.history['val_accuracy'])\n",
    "plt.title('Model accuracy')\n",
    "plt.ylabel('Accuracy')\n",
    "plt.xlabel('Epoch')\n",
    "plt.legend(['Train', 'Validation'], loc='upper left')\n",
    "plt.show()"
   ]
  },
  {
   "cell_type": "markdown",
   "metadata": {},
   "source": [
    "## First solution: Early stop"
   ]
  },
  {
   "cell_type": "code",
   "execution_count": 135,
   "metadata": {},
   "outputs": [
    {
     "name": "stdout",
     "output_type": "stream",
     "text": [
      "Train on 50000 samples, validate on 10000 samples\n",
      "Epoch 1/2\n",
      "50000/50000 [==============================] - 4s 87us/sample - loss: 0.7861 - accuracy: 0.8402 - val_loss: 1.7014 - val_accuracy: 0.7989\n",
      "Epoch 2/2\n",
      "50000/50000 [==============================] - 4s 85us/sample - loss: 0.8199 - accuracy: 0.8543 - val_loss: 1.7699 - val_accuracy: 0.8203\n"
     ]
    }
   ],
   "source": [
    "history = model.fit(x_train, y_train, epochs=2, validation_data=(x_validation, y_validation))"
   ]
  },
  {
   "cell_type": "code",
   "execution_count": 136,
   "metadata": {},
   "outputs": [
    {
     "name": "stdout",
     "output_type": "stream",
     "text": [
      "10000/1 - 0s - loss: 1.1571 - accuracy: 0.8035\n",
      "Test accuracy: 0.8035\n",
      "Test loss: 1.6521562866210937\n"
     ]
    }
   ],
   "source": [
    "test_loss, test_acc = model.evaluate(x_test,  y_test, verbose=2)\n",
    "\n",
    "print('Test accuracy:', test_acc)\n",
    "print('Test loss:', test_loss)"
   ]
  },
  {
   "cell_type": "code",
   "execution_count": 137,
   "metadata": {},
   "outputs": [
    {
     "data": {
      "image/png": "[encoded data removed]",
      "text/plain": [
       "<Figure size 432x288 with 1 Axes>"
      ]
     },
     "metadata": {
      "needs_background": "light"
     },
     "output_type": "display_data"
    }
   ],
   "source": [
    "# Plot training & validation accuracy values\n",
    "plt.plot(history.history['accuracy'])\n",
    "plt.plot(history.history['val_accuracy'])\n",
    "plt.title('Model accuracy')\n",
    "plt.ylabel('Accuracy')\n",
    "plt.xlabel('Epoch')\n",
    "plt.legend(['Train', 'Validation'], loc='upper left')\n",
    "plt.show()"
   ]
  },
  {
   "cell_type": "markdown",
   "metadata": {},
   "source": [
    "## Second solution: Reduce the complexity of the network"
   ]
  },
  {
   "cell_type": "code",
   "execution_count": 139,
   "metadata": {},
   "outputs": [
    {
     "name": "stdout",
     "output_type": "stream",
     "text": [
      "Model: \"sequential_9\"\n",
      "_________________________________________________________________\n",
      "Layer (type)                 Output Shape              Param #   \n",
      "=================================================================\n",
      "flatten_9 (Flatten)          (None, 784)               0         \n",
      "_________________________________________________________________\n",
      "dense_34 (Dense)             (None, 128)               100480    \n",
      "_________________________________________________________________\n",
      "dense_35 (Dense)             (None, 10)                1290      \n",
      "=================================================================\n",
      "Total params: 101,770\n",
      "Trainable params: 101,770\n",
      "Non-trainable params: 0\n",
      "_________________________________________________________________\n"
     ]
    }
   ],
   "source": [
    "# Let's now build the model\n",
    "\n",
    "model = keras.Sequential([\n",
    "    keras.layers.Flatten(input_shape=(28, 28)),\n",
    "    keras.layers.Dense(128, activation='relu'),\n",
    "    keras.layers.Dense(10)\n",
    "])\n",
    "\n",
    "model.compile(optimizer='rmsprop',\n",
    "              loss=tf.keras.losses.SparseCategoricalCrossentropy(from_logits=True),\n",
    "              metrics=['accuracy'])\n",
    "\n",
    "model.summary()"
   ]
  },
  {
   "cell_type": "code",
   "execution_count": 140,
   "metadata": {},
   "outputs": [
    {
     "name": "stdout",
     "output_type": "stream",
     "text": [
      "Train on 50000 samples, validate on 10000 samples\n",
      "Epoch 1/50\n",
      "50000/50000 [==============================] - 4s 85us/sample - loss: 2.7782 - accuracy: 0.8686 - val_loss: 0.5461 - val_accuracy: 0.9085\n",
      "Epoch 2/50\n",
      "50000/50000 [==============================] - 4s 78us/sample - loss: 0.5984 - accuracy: 0.9223 - val_loss: 0.5334 - val_accuracy: 0.9384\n",
      "Epoch 3/50\n",
      "50000/50000 [==============================] - 4s 78us/sample - loss: 0.4966 - accuracy: 0.9372 - val_loss: 0.4471 - val_accuracy: 0.9436\n",
      "Epoch 4/50\n",
      "50000/50000 [==============================] - 4s 77us/sample - loss: 0.4367 - accuracy: 0.9474 - val_loss: 0.5389 - val_accuracy: 0.9449\n",
      "Epoch 5/50\n",
      "50000/50000 [==============================] - 4s 79us/sample - loss: 0.4148 - accuracy: 0.9517 - val_loss: 0.5206 - val_accuracy: 0.9537\n",
      "Epoch 6/50\n",
      "50000/50000 [==============================] - 4s 77us/sample - loss: 0.3698 - accuracy: 0.9578 - val_loss: 0.5345 - val_accuracy: 0.9549\n",
      "Epoch 7/50\n",
      "50000/50000 [==============================] - 4s 78us/sample - loss: 0.3641 - accuracy: 0.9614 - val_loss: 0.7090 - val_accuracy: 0.9524\n",
      "Epoch 8/50\n",
      "50000/50000 [==============================] - 4s 77us/sample - loss: 0.3310 - accuracy: 0.9637 - val_loss: 0.5643 - val_accuracy: 0.9528\n",
      "Epoch 9/50\n",
      "50000/50000 [==============================] - 4s 79us/sample - loss: 0.3168 - accuracy: 0.9660 - val_loss: 0.7157 - val_accuracy: 0.9550\n",
      "Epoch 10/50\n",
      "50000/50000 [==============================] - 4s 83us/sample - loss: 0.3081 - accuracy: 0.9681 - val_loss: 0.6978 - val_accuracy: 0.9577\n",
      "Epoch 11/50\n",
      "50000/50000 [==============================] - 4s 78us/sample - loss: 0.2736 - accuracy: 0.9700 - val_loss: 0.6518 - val_accuracy: 0.9567\n",
      "Epoch 12/50\n",
      "50000/50000 [==============================] - 4s 78us/sample - loss: 0.2743 - accuracy: 0.9705 - val_loss: 0.6584 - val_accuracy: 0.9617\n",
      "Epoch 13/50\n",
      "50000/50000 [==============================] - 4s 83us/sample - loss: 0.2688 - accuracy: 0.9737 - val_loss: 0.7529 - val_accuracy: 0.9600\n",
      "Epoch 14/50\n",
      "50000/50000 [==============================] - 4s 80us/sample - loss: 0.2645 - accuracy: 0.9749 - val_loss: 0.8108 - val_accuracy: 0.9588\n",
      "Epoch 15/50\n",
      "50000/50000 [==============================] - 5s 95us/sample - loss: 0.2425 - accuracy: 0.9763 - val_loss: 0.6803 - val_accuracy: 0.9635\n",
      "Epoch 16/50\n",
      "50000/50000 [==============================] - 4s 84us/sample - loss: 0.2228 - accuracy: 0.9773 - val_loss: 0.8261 - val_accuracy: 0.9667\n",
      "Epoch 17/50\n",
      "50000/50000 [==============================] - 4s 84us/sample - loss: 0.2197 - accuracy: 0.9782 - val_loss: 0.8734 - val_accuracy: 0.9641\n",
      "Epoch 18/50\n",
      "50000/50000 [==============================] - 5s 95us/sample - loss: 0.2286 - accuracy: 0.9792 - val_loss: 0.9747 - val_accuracy: 0.9619\n",
      "Epoch 19/50\n",
      "50000/50000 [==============================] - 5s 91us/sample - loss: 0.2021 - accuracy: 0.9811 - val_loss: 0.8850 - val_accuracy: 0.9635\n",
      "Epoch 20/50\n",
      "50000/50000 [==============================] - 5s 90us/sample - loss: 0.2232 - accuracy: 0.9808 - val_loss: 0.9202 - val_accuracy: 0.9657\n",
      "Epoch 21/50\n",
      "50000/50000 [==============================] - 4s 80us/sample - loss: 0.1819 - accuracy: 0.9826 - val_loss: 0.9127 - val_accuracy: 0.9656\n",
      "Epoch 22/50\n",
      "50000/50000 [==============================] - 5s 90us/sample - loss: 0.1976 - accuracy: 0.9825 - val_loss: 1.0240 - val_accuracy: 0.9662\n",
      "Epoch 23/50\n",
      "50000/50000 [==============================] - 4s 88us/sample - loss: 0.1869 - accuracy: 0.9836 - val_loss: 1.0119 - val_accuracy: 0.9629\n",
      "Epoch 24/50\n",
      "50000/50000 [==============================] - 4s 82us/sample - loss: 0.1719 - accuracy: 0.9843 - val_loss: 0.9835 - val_accuracy: 0.9649\n",
      "Epoch 25/50\n",
      "50000/50000 [==============================] - 5s 94us/sample - loss: 0.1878 - accuracy: 0.9846 - val_loss: 1.0131 - val_accuracy: 0.9651\n",
      "Epoch 26/50\n",
      "50000/50000 [==============================] - 4s 89us/sample - loss: 0.1612 - accuracy: 0.9860 - val_loss: 1.1358 - val_accuracy: 0.9662\n",
      "Epoch 27/50\n",
      "50000/50000 [==============================] - 4s 81us/sample - loss: 0.1657 - accuracy: 0.9854 - val_loss: 1.1577 - val_accuracy: 0.9641\n",
      "Epoch 28/50\n",
      "50000/50000 [==============================] - 4s 89us/sample - loss: 0.1554 - accuracy: 0.9860 - val_loss: 1.3207 - val_accuracy: 0.9649\n",
      "Epoch 29/50\n",
      "50000/50000 [==============================] - 4s 81us/sample - loss: 0.1508 - accuracy: 0.9874 - val_loss: 1.1985 - val_accuracy: 0.9654\n",
      "Epoch 30/50\n",
      "50000/50000 [==============================] - 4s 84us/sample - loss: 0.1448 - accuracy: 0.9878 - val_loss: 1.1408 - val_accuracy: 0.9669\n",
      "Epoch 31/50\n",
      "50000/50000 [==============================] - 5s 93us/sample - loss: 0.1352 - accuracy: 0.9873 - val_loss: 1.2303 - val_accuracy: 0.9645\n",
      "Epoch 32/50\n",
      "50000/50000 [==============================] - 4s 88us/sample - loss: 0.1343 - accuracy: 0.9885 - val_loss: 1.3375 - val_accuracy: 0.9656\n",
      "Epoch 33/50\n",
      "50000/50000 [==============================] - 4s 84us/sample - loss: 0.1325 - accuracy: 0.9891 - val_loss: 1.2214 - val_accuracy: 0.9676\n",
      "Epoch 34/50\n",
      "50000/50000 [==============================] - 4s 87us/sample - loss: 0.1237 - accuracy: 0.9894 - val_loss: 1.2775 - val_accuracy: 0.9661\n",
      "Epoch 35/50\n",
      "50000/50000 [==============================] - 5s 93us/sample - loss: 0.1418 - accuracy: 0.9895 - val_loss: 1.4072 - val_accuracy: 0.9648\n",
      "Epoch 36/50\n",
      "50000/50000 [==============================] - 4s 89us/sample - loss: 0.1276 - accuracy: 0.9895 - val_loss: 1.3011 - val_accuracy: 0.9686\n",
      "Epoch 37/50\n",
      "50000/50000 [==============================] - 5s 98us/sample - loss: 0.1282 - accuracy: 0.9903 - val_loss: 1.2999 - val_accuracy: 0.9671\n",
      "Epoch 38/50\n",
      "50000/50000 [==============================] - 6s 120us/sample - loss: 0.1089 - accuracy: 0.9911 - val_loss: 1.2675 - val_accuracy: 0.9680\n",
      "Epoch 39/50\n",
      "50000/50000 [==============================] - 4s 87us/sample - loss: 0.1022 - accuracy: 0.9914 - val_loss: 1.3156 - val_accuracy: 0.9696\n",
      "Epoch 40/50\n",
      "50000/50000 [==============================] - 4s 81us/sample - loss: 0.0989 - accuracy: 0.9912 - val_loss: 1.3370 - val_accuracy: 0.9680\n",
      "Epoch 41/50\n",
      "50000/50000 [==============================] - 4s 80us/sample - loss: 0.1066 - accuracy: 0.9914 - val_loss: 1.3766 - val_accuracy: 0.9663\n",
      "Epoch 42/50\n",
      "50000/50000 [==============================] - 5s 91us/sample - loss: 0.1181 - accuracy: 0.9905 - val_loss: 1.3541 - val_accuracy: 0.9666\n",
      "Epoch 43/50\n",
      "50000/50000 [==============================] - 4s 81us/sample - loss: 0.0897 - accuracy: 0.9922 - val_loss: 1.3116 - val_accuracy: 0.9686\n",
      "Epoch 44/50\n",
      "50000/50000 [==============================] - 4s 80us/sample - loss: 0.0745 - accuracy: 0.9934 - val_loss: 1.4606 - val_accuracy: 0.9665\n",
      "Epoch 45/50\n",
      "50000/50000 [==============================] - 4s 87us/sample - loss: 0.1014 - accuracy: 0.9923 - val_loss: 1.4747 - val_accuracy: 0.9682\n",
      "Epoch 46/50\n",
      "50000/50000 [==============================] - 4s 79us/sample - loss: 0.1032 - accuracy: 0.9923 - val_loss: 1.4514 - val_accuracy: 0.9687\n",
      "Epoch 47/50\n",
      "50000/50000 [==============================] - 4s 79us/sample - loss: 0.0955 - accuracy: 0.9929 - val_loss: 1.4287 - val_accuracy: 0.9696\n",
      "Epoch 48/50\n",
      "50000/50000 [==============================] - 4s 79us/sample - loss: 0.0861 - accuracy: 0.9929 - val_loss: 1.4340 - val_accuracy: 0.9698\n",
      "Epoch 49/50\n",
      "50000/50000 [==============================] - 4s 86us/sample - loss: 0.0819 - accuracy: 0.9935 - val_loss: 1.7118 - val_accuracy: 0.9668\n",
      "Epoch 50/50\n",
      "50000/50000 [==============================] - 4s 88us/sample - loss: 0.0894 - accuracy: 0.9936 - val_loss: 1.6102 - val_accuracy: 0.9667\n"
     ]
    }
   ],
   "source": [
    "history = model.fit(x_train, y_train, epochs=50, validation_data=(x_validation, y_validation))"
   ]
  },
  {
   "cell_type": "code",
   "execution_count": 141,
   "metadata": {},
   "outputs": [
    {
     "name": "stdout",
     "output_type": "stream",
     "text": [
      "10000/1 - 0s - loss: 0.8864 - accuracy: 0.9652\n",
      "Test accuracy: 0.9652\n",
      "Test loss: 1.7727582507779527\n"
     ]
    }
   ],
   "source": [
    "test_loss, test_acc = model.evaluate(x_test,  y_test, verbose=2)\n",
    "\n",
    "print('Test accuracy:', test_acc)\n",
    "print('Test loss:', test_loss)"
   ]
  },
  {
   "cell_type": "code",
   "execution_count": 142,
   "metadata": {},
   "outputs": [
    {
     "data": {
      "image/png": "[encoded data removed]",
      "text/plain": [
       "<Figure size 432x288 with 1 Axes>"
      ]
     },
     "metadata": {
      "needs_background": "light"
     },
     "output_type": "display_data"
    }
   ],
   "source": [
    "# Plot training & validation accuracy values\n",
    "plt.plot(history.history['accuracy'])\n",
    "plt.plot(history.history['val_accuracy'])\n",
    "plt.title('Model accuracy')\n",
    "plt.ylabel('Accuracy')\n",
    "plt.xlabel('Epoch')\n",
    "plt.legend(['Train', 'Validation'], loc='upper left')\n",
    "plt.show()"
   ]
  },
  {
   "cell_type": "markdown",
   "metadata": {},
   "source": [
    "## Third solution: Use dropout"
   ]
  },
  {
   "cell_type": "code",
   "execution_count": 147,
   "metadata": {},
   "outputs": [],
   "source": [
    "# Let's now build the model\n",
    "\n",
    "model = keras.Sequential([\n",
    "    keras.layers.Flatten(input_shape=(28, 28)),\n",
    "    keras.layers.Dense(128, activation='relu'),\n",
    "    keras.layers.Dropout(0.2),\n",
    "    keras.layers.Dense(64, activation='relu'),\n",
    "    keras.layers.Dropout(0.2),    \n",
    "    keras.layers.Dense(32, activation='relu'),\n",
    "    keras.layers.Dropout(0.2),    \n",
    "    keras.layers.Dense(16, activation='relu'),\n",
    "    keras.layers.Dropout(0.2),    \n",
    "    keras.layers.Dense(10)\n",
    "])\n",
    "\n",
    "model.compile(optimizer='rmsprop',\n",
    "              loss=tf.keras.losses.SparseCategoricalCrossentropy(from_logits=True),\n",
    "              metrics=['accuracy'])\n"
   ]
  },
  {
   "cell_type": "code",
   "execution_count": 148,
   "metadata": {},
   "outputs": [
    {
     "name": "stdout",
     "output_type": "stream",
     "text": [
      "Model: \"sequential_11\"\n",
      "_________________________________________________________________\n",
      "Layer (type)                 Output Shape              Param #   \n",
      "=================================================================\n",
      "flatten_11 (Flatten)         (None, 784)               0         \n",
      "_________________________________________________________________\n",
      "dense_41 (Dense)             (None, 128)               100480    \n",
      "_________________________________________________________________\n",
      "dropout_3 (Dropout)          (None, 128)               0         \n",
      "_________________________________________________________________\n",
      "dense_42 (Dense)             (None, 64)                8256      \n",
      "_________________________________________________________________\n",
      "dropout_4 (Dropout)          (None, 64)                0         \n",
      "_________________________________________________________________\n",
      "dense_43 (Dense)             (None, 32)                2080      \n",
      "_________________________________________________________________\n",
      "dropout_5 (Dropout)          (None, 32)                0         \n",
      "_________________________________________________________________\n",
      "dense_44 (Dense)             (None, 16)                528       \n",
      "_________________________________________________________________\n",
      "dropout_6 (Dropout)          (None, 16)                0         \n",
      "_________________________________________________________________\n",
      "dense_45 (Dense)             (None, 10)                170       \n",
      "=================================================================\n",
      "Total params: 111,514\n",
      "Trainable params: 111,514\n",
      "Non-trainable params: 0\n",
      "_________________________________________________________________\n"
     ]
    }
   ],
   "source": [
    "model.summary()"
   ]
  },
  {
   "cell_type": "code",
   "execution_count": 149,
   "metadata": {},
   "outputs": [
    {
     "name": "stdout",
     "output_type": "stream",
     "text": [
      "Train on 50000 samples, validate on 10000 samples\n",
      "Epoch 1/50\n",
      "50000/50000 [==============================] - 5s 103us/sample - loss: 1.9403 - accuracy: 0.5380 - val_loss: 0.3937 - val_accuracy: 0.9056\n",
      "Epoch 2/50\n",
      "50000/50000 [==============================] - 4s 89us/sample - loss: 0.7287 - accuracy: 0.8029 - val_loss: 0.2985 - val_accuracy: 0.9245\n",
      "Epoch 3/50\n",
      "50000/50000 [==============================] - 4s 90us/sample - loss: 0.6164 - accuracy: 0.8398 - val_loss: 0.2821 - val_accuracy: 0.9371\n",
      "Epoch 4/50\n",
      "50000/50000 [==============================] - 4s 90us/sample - loss: 0.5654 - accuracy: 0.8642 - val_loss: 0.2344 - val_accuracy: 0.9481\n",
      "Epoch 5/50\n",
      "50000/50000 [==============================] - 4s 90us/sample - loss: 0.5414 - accuracy: 0.8851 - val_loss: 0.2195 - val_accuracy: 0.9507\n",
      "Epoch 6/50\n",
      "50000/50000 [==============================] - 4s 90us/sample - loss: 0.5014 - accuracy: 0.8938 - val_loss: 0.2471 - val_accuracy: 0.9529\n",
      "Epoch 7/50\n",
      "50000/50000 [==============================] - 5s 90us/sample - loss: 0.5008 - accuracy: 0.8995 - val_loss: 0.2291 - val_accuracy: 0.9553\n",
      "Epoch 8/50\n",
      "50000/50000 [==============================] - 4s 89us/sample - loss: 0.4777 - accuracy: 0.9046 - val_loss: 0.2559 - val_accuracy: 0.9573\n",
      "Epoch 9/50\n",
      "50000/50000 [==============================] - 5s 90us/sample - loss: 0.4822 - accuracy: 0.9077 - val_loss: 0.2833 - val_accuracy: 0.9585\n",
      "Epoch 10/50\n",
      "50000/50000 [==============================] - 4s 90us/sample - loss: 0.4958 - accuracy: 0.9085 - val_loss: 0.2933 - val_accuracy: 0.9550\n",
      "Epoch 11/50\n",
      "50000/50000 [==============================] - 5s 90us/sample - loss: 0.4804 - accuracy: 0.9116 - val_loss: 0.2778 - val_accuracy: 0.9586\n",
      "Epoch 12/50\n",
      "50000/50000 [==============================] - 5s 91us/sample - loss: 0.5025 - accuracy: 0.9124 - val_loss: 0.2650 - val_accuracy: 0.9577\n",
      "Epoch 13/50\n",
      "50000/50000 [==============================] - 5s 91us/sample - loss: 0.4929 - accuracy: 0.9124 - val_loss: 0.2795 - val_accuracy: 0.9577\n",
      "Epoch 14/50\n",
      "50000/50000 [==============================] - 4s 90us/sample - loss: 0.5176 - accuracy: 0.9136 - val_loss: 0.3079 - val_accuracy: 0.9608\n",
      "Epoch 15/50\n",
      "50000/50000 [==============================] - 5s 90us/sample - loss: 0.4997 - accuracy: 0.9153 - val_loss: 0.2693 - val_accuracy: 0.9615\n",
      "Epoch 16/50\n",
      "50000/50000 [==============================] - 5s 90us/sample - loss: 0.5148 - accuracy: 0.9156 - val_loss: 0.2895 - val_accuracy: 0.9644\n",
      "Epoch 17/50\n",
      "50000/50000 [==============================] - 5s 91us/sample - loss: 0.5156 - accuracy: 0.9140 - val_loss: 0.2797 - val_accuracy: 0.9583\n",
      "Epoch 18/50\n",
      "50000/50000 [==============================] - 5s 92us/sample - loss: 0.4988 - accuracy: 0.9144 - val_loss: 0.2464 - val_accuracy: 0.9591\n",
      "Epoch 19/50\n",
      "50000/50000 [==============================] - 5s 92us/sample - loss: 0.4934 - accuracy: 0.9168 - val_loss: 0.3045 - val_accuracy: 0.9622\n",
      "Epoch 20/50\n",
      "50000/50000 [==============================] - 5s 90us/sample - loss: 0.4940 - accuracy: 0.9163 - val_loss: 0.2665 - val_accuracy: 0.9614\n",
      "Epoch 21/50\n",
      "50000/50000 [==============================] - 5s 91us/sample - loss: 0.5242 - accuracy: 0.9122 - val_loss: 0.2540 - val_accuracy: 0.9623\n",
      "Epoch 22/50\n",
      "50000/50000 [==============================] - 5s 91us/sample - loss: 0.5373 - accuracy: 0.9146 - val_loss: 0.3122 - val_accuracy: 0.9595\n",
      "Epoch 23/50\n",
      "50000/50000 [==============================] - 5s 91us/sample - loss: 0.5111 - accuracy: 0.9167 - val_loss: 0.2750 - val_accuracy: 0.9593\n",
      "Epoch 24/50\n",
      "50000/50000 [==============================] - 5s 91us/sample - loss: 0.5314 - accuracy: 0.9160 - val_loss: 0.3017 - val_accuracy: 0.9640\n",
      "Epoch 25/50\n",
      "50000/50000 [==============================] - 5s 91us/sample - loss: 0.5206 - accuracy: 0.9152 - val_loss: 0.3091 - val_accuracy: 0.9655\n",
      "Epoch 26/50\n",
      "50000/50000 [==============================] - 5s 90us/sample - loss: 0.5621 - accuracy: 0.9151 - val_loss: 0.3024 - val_accuracy: 0.9636\n",
      "Epoch 27/50\n",
      "50000/50000 [==============================] - 5s 90us/sample - loss: 0.5964 - accuracy: 0.9132 - val_loss: 0.2519 - val_accuracy: 0.9635\n",
      "Epoch 28/50\n",
      "50000/50000 [==============================] - 5s 91us/sample - loss: 0.5507 - accuracy: 0.9137 - val_loss: 0.3044 - val_accuracy: 0.9642\n",
      "Epoch 29/50\n",
      "50000/50000 [==============================] - 4s 89us/sample - loss: 0.5542 - accuracy: 0.9138 - val_loss: 0.2700 - val_accuracy: 0.9639\n",
      "Epoch 30/50\n",
      "50000/50000 [==============================] - 5s 90us/sample - loss: 0.5313 - accuracy: 0.9141 - val_loss: 0.2969 - val_accuracy: 0.9623\n",
      "Epoch 31/50\n",
      "50000/50000 [==============================] - 4s 90us/sample - loss: 0.5247 - accuracy: 0.9167 - val_loss: 0.3043 - val_accuracy: 0.9604\n",
      "Epoch 32/50\n",
      "50000/50000 [==============================] - 5s 90us/sample - loss: 0.5238 - accuracy: 0.9186 - val_loss: 0.2786 - val_accuracy: 0.9649\n",
      "Epoch 33/50\n",
      "50000/50000 [==============================] - 4s 89us/sample - loss: 0.5150 - accuracy: 0.9175 - val_loss: 0.3099 - val_accuracy: 0.9615\n",
      "Epoch 34/50\n",
      "50000/50000 [==============================] - 5s 90us/sample - loss: 0.5461 - accuracy: 0.9181 - val_loss: 0.3051 - val_accuracy: 0.9623\n",
      "Epoch 35/50\n",
      "50000/50000 [==============================] - 5s 90us/sample - loss: 0.5630 - accuracy: 0.9174 - val_loss: 0.3278 - val_accuracy: 0.9591\n",
      "Epoch 36/50\n",
      "50000/50000 [==============================] - 4s 89us/sample - loss: 0.5481 - accuracy: 0.9198 - val_loss: 0.3192 - val_accuracy: 0.9645\n",
      "Epoch 37/50\n",
      "50000/50000 [==============================] - 4s 90us/sample - loss: 0.5332 - accuracy: 0.9215 - val_loss: 0.3067 - val_accuracy: 0.9566\n",
      "Epoch 38/50\n",
      "50000/50000 [==============================] - 4s 90us/sample - loss: 0.5428 - accuracy: 0.9198 - val_loss: 0.3337 - val_accuracy: 0.9632\n",
      "Epoch 39/50\n",
      "50000/50000 [==============================] - 4s 89us/sample - loss: 0.5819 - accuracy: 0.9173 - val_loss: 0.3116 - val_accuracy: 0.9658\n",
      "Epoch 40/50\n",
      "50000/50000 [==============================] - 4s 89us/sample - loss: 0.5476 - accuracy: 0.9196 - val_loss: 0.3789 - val_accuracy: 0.9691\n",
      "Epoch 41/50\n",
      "50000/50000 [==============================] - 5s 90us/sample - loss: 0.5603 - accuracy: 0.9187 - val_loss: 0.2803 - val_accuracy: 0.9577\n",
      "Epoch 42/50\n",
      "50000/50000 [==============================] - 4s 89us/sample - loss: 0.5056 - accuracy: 0.9178 - val_loss: 0.2990 - val_accuracy: 0.9644\n",
      "Epoch 43/50\n",
      "50000/50000 [==============================] - 4s 89us/sample - loss: 0.5239 - accuracy: 0.9164 - val_loss: 0.3470 - val_accuracy: 0.9663\n",
      "Epoch 44/50\n",
      "50000/50000 [==============================] - 4s 89us/sample - loss: 0.6016 - accuracy: 0.9159 - val_loss: 0.3154 - val_accuracy: 0.9650\n",
      "Epoch 45/50\n",
      "50000/50000 [==============================] - 4s 89us/sample - loss: 0.5725 - accuracy: 0.9190 - val_loss: 0.3132 - val_accuracy: 0.9530\n",
      "Epoch 46/50\n",
      "50000/50000 [==============================] - 4s 89us/sample - loss: 0.5525 - accuracy: 0.9178 - val_loss: 0.3065 - val_accuracy: 0.9644\n",
      "Epoch 47/50\n",
      "50000/50000 [==============================] - 4s 90us/sample - loss: 0.5261 - accuracy: 0.9209 - val_loss: 0.3358 - val_accuracy: 0.9669\n",
      "Epoch 48/50\n",
      "50000/50000 [==============================] - 4s 87us/sample - loss: 0.5453 - accuracy: 0.9183 - val_loss: 0.3797 - val_accuracy: 0.9615\n",
      "Epoch 49/50\n",
      "50000/50000 [==============================] - 4s 88us/sample - loss: 0.5527 - accuracy: 0.9162 - val_loss: 0.3068 - val_accuracy: 0.9607\n",
      "Epoch 50/50\n",
      "50000/50000 [==============================] - 4s 88us/sample - loss: 0.5663 - accuracy: 0.9158 - val_loss: 0.3362 - val_accuracy: 0.9601\n"
     ]
    }
   ],
   "source": [
    "history = model.fit(x_train, y_train, epochs=50, validation_data=(x_validation, y_validation))"
   ]
  },
  {
   "cell_type": "code",
   "execution_count": 150,
   "metadata": {},
   "outputs": [
    {
     "name": "stdout",
     "output_type": "stream",
     "text": [
      "10000/1 - 0s - loss: 0.1835 - accuracy: 0.9589\n",
      "Test accuracy: 0.9589\n",
      "Test loss: 0.3398653687911683\n"
     ]
    }
   ],
   "source": [
    "test_loss, test_acc = model.evaluate(x_test,  y_test, verbose=2)\n",
    "\n",
    "print('Test accuracy:', test_acc)\n",
    "print('Test loss:', test_loss)"
   ]
  },
  {
   "cell_type": "code",
   "execution_count": 152,
   "metadata": {},
   "outputs": [
    {
     "data": {
      "image/png": "[encoded data removed]",
      "text/plain": [
       "<Figure size 432x288 with 1 Axes>"
      ]
     },
     "metadata": {
      "needs_background": "light"
     },
     "output_type": "display_data"
    }
   ],
   "source": [
    "# Plot training & validation accuracy values\n",
    "plt.plot(history.history['accuracy'])\n",
    "plt.plot(history.history['val_accuracy'])\n",
    "plt.title('Model accuracy')\n",
    "plt.ylabel('Accuracy')\n",
    "plt.xlabel('Epoch')\n",
    "plt.legend(['Train', 'Validation'], loc='upper left')\n",
    "plt.show()"
   ]
  }
 ],
 "metadata": {
  "kernelspec": {
   "display_name": "Python 3",
   "language": "python",
   "name": "python3"
  },
  "language_info": {
   "codemirror_mode": {
    "name": "ipython",
    "version": 3
   },
   "file_extension": ".py",
   "mimetype": "text/x-python",
   "name": "python",
   "nbconvert_exporter": "python",
   "pygments_lexer": "ipython3",
   "version": "3.6.9"
  }
 },
 "nbformat": 4,
 "nbformat_minor": 2
}
